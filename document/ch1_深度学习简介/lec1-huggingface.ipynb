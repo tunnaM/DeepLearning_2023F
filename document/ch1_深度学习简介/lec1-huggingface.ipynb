{
 "cells": [
  {
   "cell_type": "markdown",
   "id": "d4a3fc58",
   "metadata": {},
   "source": [
    "## 实验：Huggingface Transformer & Diffusion"
   ]
  },
  {
   "cell_type": "markdown",
   "id": "28e37bc2",
   "metadata": {},
   "source": [
    "#### 准备工作"
   ]
  },
  {
   "cell_type": "markdown",
   "id": "95de6d41",
   "metadata": {},
   "source": [
    "1. 创建虚拟环境：\n",
    "\n",
    "```\n",
    "conda create -n huggingface\n",
    "conda activate huggingface\n",
    "conda install python=3.11 notebook ipywidgets\n",
    "```\n",
    "\n",
    "2. 设置 Pip 软件源，加快下载速度：\n",
    "\n",
    "```\n",
    "pip config set global.index-url https://mirrors.bfsu.edu.cn/pypi/web/simple\n",
    "```\n",
    "\n",
    "2. 根据硬件选择合适的 PyTorch 版本（二选一）：\n",
    "\n",
    "- 选项1：CPU 版 PyTorch\n",
    "\n",
    "```\n",
    "pip3 install torch torchvision\n",
    "```\n",
    "\n",
    "- 选项2：GPU 版 PyTorch\n",
    "\n",
    "```\n",
    "pip3 install torch torchvision --index-url https://download.pytorch.org/whl/cu118\n",
    "```\n",
    "\n",
    "3. 安装 Huggingface 相关软件库：\n",
    "\n",
    "```\n",
    "pip install diffusers[\"torch\"] transformers huggingface_hub\n",
    "```"
   ]
  },
  {
   "cell_type": "markdown",
   "id": "c94958b5",
   "metadata": {},
   "source": [
    "#### 开始实验！"
   ]
  },
  {
   "cell_type": "markdown",
   "id": "941d5b86",
   "metadata": {},
   "source": [
    "情感分析："
   ]
  },
  {
   "cell_type": "code",
   "execution_count": 1,
   "id": "192a04b6",
   "metadata": {},
   "outputs": [
    {
     "name": "stderr",
     "output_type": "stream",
     "text": [
      "No model was supplied, defaulted to distilbert-base-uncased-finetuned-sst-2-english and revision af0f99b (https://huggingface.co/distilbert-base-uncased-finetuned-sst-2-english).\n",
      "Using a pipeline without specifying a model name and revision in production is not recommended.\n"
     ]
    }
   ],
   "source": [
    "from transformers import pipeline\n",
    "pipe = pipeline(task = \"text-classification\")"
   ]
  },
  {
   "cell_type": "code",
   "execution_count": 2,
   "id": "73dcdb48",
   "metadata": {
    "scrolled": true
   },
   "outputs": [
    {
     "data": {
      "text/plain": [
       "[{'label': 'NEGATIVE', 'score': 0.8571763634681702}]"
      ]
     },
     "execution_count": 2,
     "metadata": {},
     "output_type": "execute_result"
    }
   ],
   "source": [
    "pipe(\"Professor Qiu is very strict.\")"
   ]
  },
  {
   "cell_type": "code",
   "execution_count": 3,
   "id": "976a63be",
   "metadata": {},
   "outputs": [
    {
     "data": {
      "text/plain": [
       "[{'label': 'NEGATIVE', 'score': 0.515913188457489}]"
      ]
     },
     "execution_count": 3,
     "metadata": {},
     "output_type": "execute_result"
    }
   ],
   "source": [
    "pipe(\"There is a new coffee shop on campus.\")"
   ]
  },
  {
   "cell_type": "code",
   "execution_count": 4,
   "id": "2af49ae2",
   "metadata": {},
   "outputs": [
    {
     "data": {
      "text/plain": [
       "[{'label': 'POSITIVE', 'score': 0.9982901215553284}]"
      ]
     },
     "execution_count": 4,
     "metadata": {},
     "output_type": "execute_result"
    }
   ],
   "source": [
    "pipe(\"There is a new coffee shop on campus. The drinks there taste not bad.\")"
   ]
  },
  {
   "cell_type": "code",
   "execution_count": 5,
   "id": "07a99b9e",
   "metadata": {},
   "outputs": [
    {
     "data": {
      "text/plain": [
       "[{'label': 'NEGATIVE', 'score': 0.9703740477561951}]"
      ]
     },
     "execution_count": 5,
     "metadata": {},
     "output_type": "execute_result"
    }
   ],
   "source": [
    "pipe(\"There is a new coffee shop on campus. I will never go there again.\")"
   ]
  },
  {
   "cell_type": "markdown",
   "id": "4668317b",
   "metadata": {},
   "source": [
    "填词："
   ]
  },
  {
   "cell_type": "code",
   "execution_count": 6,
   "id": "332904ef",
   "metadata": {},
   "outputs": [
    {
     "name": "stderr",
     "output_type": "stream",
     "text": [
      "Some weights of the model checkpoint at ethanyt/guwenbert-base were not used when initializing RobertaForMaskedLM: ['roberta.pooler.dense.weight', 'roberta.pooler.dense.bias']\n",
      "- This IS expected if you are initializing RobertaForMaskedLM from the checkpoint of a model trained on another task or with another architecture (e.g. initializing a BertForSequenceClassification model from a BertForPreTraining model).\n",
      "- This IS NOT expected if you are initializing RobertaForMaskedLM from the checkpoint of a model that you expect to be exactly identical (initializing a BertForSequenceClassification model from a BertForSequenceClassification model).\n"
     ]
    }
   ],
   "source": [
    "fill_masker = pipeline(task = \"fill-mask\", model = \"ethanyt/guwenbert-base\")"
   ]
  },
  {
   "cell_type": "code",
   "execution_count": 7,
   "id": "fe1f2710",
   "metadata": {
    "scrolled": true
   },
   "outputs": [
    {
     "data": {
      "text/plain": [
       "[('衾', 0.20730605721473694),\n",
       " ('[SEP]', 0.1400241106748581),\n",
       " ('，', 0.1293717622756958),\n",
       " ('枕', 0.04262242466211319),\n",
       " ('衣', 0.03205817565321922)]"
      ]
     },
     "execution_count": 7,
     "metadata": {},
     "output_type": "execute_result"
    }
   ],
   "source": [
    "output = fill_masker(\"帘外雨潺潺，春意阑珊。罗[MASK]不耐五更寒。\")\n",
    "list(map(lambda x : (x[\"token_str\"], x[\"score\"]), output))"
   ]
  },
  {
   "cell_type": "markdown",
   "id": "8ac7a532",
   "metadata": {},
   "source": [
    "文生图（CPU 版，可能会非常慢）："
   ]
  },
  {
   "cell_type": "code",
   "execution_count": null,
   "id": "a3b5b4fb",
   "metadata": {},
   "outputs": [],
   "source": [
    "import torch\n",
    "from diffusers import StableDiffusionPipeline\n",
    "pipe = StableDiffusionPipeline.from_pretrained(\n",
    "    \"runwayml/stable-diffusion-v1-5\",\n",
    "    torch_dtype=torch.float32\n",
    ")"
   ]
  },
  {
   "cell_type": "markdown",
   "id": "f409e2f4",
   "metadata": {},
   "source": [
    "第一次运行时代码会下载模型文件，如果出现连接问题，可以用如下命令手动下载（该命令会下载所有版本的模型文件，非常大，如果不需要完整版可以去往 https://aliendao.cn/models/runwayml/stable-diffusion-v1-5 手动下载）：\n",
    "\n",
    "```\n",
    "python model_download.py --repo_id runwayml/stable-diffusion-v1-5 --mirror\n",
    "```\n",
    "\n",
    "然后加载本地模型文件：\n",
    "\n",
    "```python\n",
    "import torch\n",
    "from diffusers import StableDiffusionPipeline\n",
    "pipe = StableDiffusionPipeline.from_pretrained(\n",
    "    \"./dataroot/models/runwayml/stable-diffusion-v1-5\",\n",
    "    torch_dtype=torch.float32\n",
    ")\n",
    "```"
   ]
  },
  {
   "cell_type": "code",
   "execution_count": null,
   "id": "f0d863af",
   "metadata": {},
   "outputs": [],
   "source": [
    "prompt = \"A blue apple\"\n",
    "pipe.enable_attention_slicing()\n",
    "image = pipe(prompt, num_inference_steps=10).images[0]"
   ]
  },
  {
   "cell_type": "code",
   "execution_count": null,
   "id": "65bb7786",
   "metadata": {},
   "outputs": [],
   "source": [
    "image"
   ]
  },
  {
   "cell_type": "markdown",
   "id": "6ec7aaf2",
   "metadata": {},
   "source": [
    "GPU 版："
   ]
  },
  {
   "cell_type": "code",
   "execution_count": 1,
   "id": "0a88d260",
   "metadata": {},
   "outputs": [
    {
     "ename": "AttributeError",
     "evalue": "module 'sympy' has no attribute 'Expr'",
     "output_type": "error",
     "traceback": [
      "\u001b[1;31m---------------------------------------------------------------------------\u001b[0m",
      "\u001b[1;31mAttributeError\u001b[0m                            Traceback (most recent call last)",
      "\u001b[1;32me:\\0、大四上\\2、深度学习 期末考试\\课程文档\\ch1\\lec1-huggingface.ipynb Cell 20\u001b[0m line \u001b[0;36m1\n\u001b[1;32m----> <a href='vscode-notebook-cell:/e%3A/0%E3%80%81%E5%A4%A7%E5%9B%9B%E4%B8%8A/2%E3%80%81%E6%B7%B1%E5%BA%A6%E5%AD%A6%E4%B9%A0%20%E6%9C%9F%E6%9C%AB%E8%80%83%E8%AF%95/%E8%AF%BE%E7%A8%8B%E6%96%87%E6%A1%A3/ch1/lec1-huggingface.ipynb#X25sZmlsZQ%3D%3D?line=0'>1</a>\u001b[0m \u001b[39mimport\u001b[39;00m \u001b[39mtorch\u001b[39;00m\n\u001b[0;32m      <a href='vscode-notebook-cell:/e%3A/0%E3%80%81%E5%A4%A7%E5%9B%9B%E4%B8%8A/2%E3%80%81%E6%B7%B1%E5%BA%A6%E5%AD%A6%E4%B9%A0%20%E6%9C%9F%E6%9C%AB%E8%80%83%E8%AF%95/%E8%AF%BE%E7%A8%8B%E6%96%87%E6%A1%A3/ch1/lec1-huggingface.ipynb#X25sZmlsZQ%3D%3D?line=1'>2</a>\u001b[0m \u001b[39mfrom\u001b[39;00m \u001b[39mdiffusers\u001b[39;00m \u001b[39mimport\u001b[39;00m StableDiffusionPipeline\n\u001b[0;32m      <a href='vscode-notebook-cell:/e%3A/0%E3%80%81%E5%A4%A7%E5%9B%9B%E4%B8%8A/2%E3%80%81%E6%B7%B1%E5%BA%A6%E5%AD%A6%E4%B9%A0%20%E6%9C%9F%E6%9C%AB%E8%80%83%E8%AF%95/%E8%AF%BE%E7%A8%8B%E6%96%87%E6%A1%A3/ch1/lec1-huggingface.ipynb#X25sZmlsZQ%3D%3D?line=2'>3</a>\u001b[0m pipe \u001b[39m=\u001b[39m StableDiffusionPipeline\u001b[39m.\u001b[39mfrom_pretrained(\n\u001b[0;32m      <a href='vscode-notebook-cell:/e%3A/0%E3%80%81%E5%A4%A7%E5%9B%9B%E4%B8%8A/2%E3%80%81%E6%B7%B1%E5%BA%A6%E5%AD%A6%E4%B9%A0%20%E6%9C%9F%E6%9C%AB%E8%80%83%E8%AF%95/%E8%AF%BE%E7%A8%8B%E6%96%87%E6%A1%A3/ch1/lec1-huggingface.ipynb#X25sZmlsZQ%3D%3D?line=3'>4</a>\u001b[0m     \u001b[39m\"\u001b[39m\u001b[39mrunwayml/stable-diffusion-v1-5\u001b[39m\u001b[39m\"\u001b[39m,\n\u001b[0;32m      <a href='vscode-notebook-cell:/e%3A/0%E3%80%81%E5%A4%A7%E5%9B%9B%E4%B8%8A/2%E3%80%81%E6%B7%B1%E5%BA%A6%E5%AD%A6%E4%B9%A0%20%E6%9C%9F%E6%9C%AB%E8%80%83%E8%AF%95/%E8%AF%BE%E7%A8%8B%E6%96%87%E6%A1%A3/ch1/lec1-huggingface.ipynb#X25sZmlsZQ%3D%3D?line=4'>5</a>\u001b[0m     torch_dtype\u001b[39m=\u001b[39mtorch\u001b[39m.\u001b[39mfloat16\n\u001b[0;32m      <a href='vscode-notebook-cell:/e%3A/0%E3%80%81%E5%A4%A7%E5%9B%9B%E4%B8%8A/2%E3%80%81%E6%B7%B1%E5%BA%A6%E5%AD%A6%E4%B9%A0%20%E6%9C%9F%E6%9C%AB%E8%80%83%E8%AF%95/%E8%AF%BE%E7%A8%8B%E6%96%87%E6%A1%A3/ch1/lec1-huggingface.ipynb#X25sZmlsZQ%3D%3D?line=5'>6</a>\u001b[0m )\n",
      "File \u001b[1;32me:\\python\\setup\\envs\\huggingface\\Lib\\site-packages\\torch\\__init__.py:1465\u001b[0m\n\u001b[0;32m   1463\u001b[0m \u001b[39mfrom\u001b[39;00m \u001b[39m.\u001b[39;00m \u001b[39mimport\u001b[39;00m library\n\u001b[0;32m   1464\u001b[0m \u001b[39mif\u001b[39;00m \u001b[39mnot\u001b[39;00m TYPE_CHECKING:\n\u001b[1;32m-> 1465\u001b[0m     \u001b[39mfrom\u001b[39;00m \u001b[39m.\u001b[39;00m \u001b[39mimport\u001b[39;00m _meta_registrations\n\u001b[0;32m   1467\u001b[0m \u001b[39m# Enable CUDA Sanitizer\u001b[39;00m\n\u001b[0;32m   1468\u001b[0m \u001b[39mif\u001b[39;00m \u001b[39m'\u001b[39m\u001b[39mTORCH_CUDA_SANITIZER\u001b[39m\u001b[39m'\u001b[39m \u001b[39min\u001b[39;00m os\u001b[39m.\u001b[39menviron:\n",
      "File \u001b[1;32me:\\python\\setup\\envs\\huggingface\\Lib\\site-packages\\torch\\_meta_registrations.py:7\u001b[0m\n\u001b[0;32m      5\u001b[0m \u001b[39mimport\u001b[39;00m \u001b[39mtorch\u001b[39;00m\u001b[39m.\u001b[39;00m\u001b[39m_prims_common\u001b[39;00m \u001b[39mas\u001b[39;00m \u001b[39mutils\u001b[39;00m\n\u001b[0;32m      6\u001b[0m \u001b[39mfrom\u001b[39;00m \u001b[39mtorch\u001b[39;00m \u001b[39mimport\u001b[39;00m Tensor\n\u001b[1;32m----> 7\u001b[0m \u001b[39mfrom\u001b[39;00m \u001b[39mtorch\u001b[39;00m\u001b[39m.\u001b[39;00m\u001b[39m_decomp\u001b[39;00m \u001b[39mimport\u001b[39;00m _add_op_to_registry, global_decomposition_table, meta_table\n\u001b[0;32m      8\u001b[0m \u001b[39mfrom\u001b[39;00m \u001b[39mtorch\u001b[39;00m\u001b[39m.\u001b[39;00m\u001b[39m_ops\u001b[39;00m \u001b[39mimport\u001b[39;00m OpOverload\n\u001b[0;32m      9\u001b[0m \u001b[39mfrom\u001b[39;00m \u001b[39mtorch\u001b[39;00m\u001b[39m.\u001b[39;00m\u001b[39m_prims\u001b[39;00m \u001b[39mimport\u001b[39;00m _elementwise_meta, ELEMENTWISE_PRIM_TYPE_PROMOTION_KIND\n",
      "File \u001b[1;32me:\\python\\setup\\envs\\huggingface\\Lib\\site-packages\\torch\\_decomp\\__init__.py:169\u001b[0m\n\u001b[0;32m    165\u001b[0m     \u001b[39mreturn\u001b[39;00m decompositions\n\u001b[0;32m    168\u001b[0m \u001b[39m# populate the table\u001b[39;00m\n\u001b[1;32m--> 169\u001b[0m \u001b[39mimport\u001b[39;00m \u001b[39mtorch\u001b[39;00m\u001b[39m.\u001b[39;00m\u001b[39m_decomp\u001b[39;00m\u001b[39m.\u001b[39;00m\u001b[39mdecompositions\u001b[39;00m\n\u001b[0;32m    170\u001b[0m \u001b[39mimport\u001b[39;00m \u001b[39mtorch\u001b[39;00m\u001b[39m.\u001b[39;00m\u001b[39m_refs\u001b[39;00m\n\u001b[0;32m    172\u001b[0m \u001b[39m# This list was copied from torch/_inductor/decomposition.py\u001b[39;00m\n\u001b[0;32m    173\u001b[0m \u001b[39m# excluding decompositions that results in prim ops\u001b[39;00m\n\u001b[0;32m    174\u001b[0m \u001b[39m# Resulting opset of decomposition is core aten ops\u001b[39;00m\n",
      "File \u001b[1;32me:\\python\\setup\\envs\\huggingface\\Lib\\site-packages\\torch\\_decomp\\decompositions.py:10\u001b[0m\n\u001b[0;32m      7\u001b[0m \u001b[39mfrom\u001b[39;00m \u001b[39mtyping\u001b[39;00m \u001b[39mimport\u001b[39;00m Callable, cast, Iterable, List, Optional, Tuple, Union\n\u001b[0;32m      9\u001b[0m \u001b[39mimport\u001b[39;00m \u001b[39mtorch\u001b[39;00m\n\u001b[1;32m---> 10\u001b[0m \u001b[39mimport\u001b[39;00m \u001b[39mtorch\u001b[39;00m\u001b[39m.\u001b[39;00m\u001b[39m_prims\u001b[39;00m \u001b[39mas\u001b[39;00m \u001b[39mprims\u001b[39;00m\n\u001b[0;32m     11\u001b[0m \u001b[39mimport\u001b[39;00m \u001b[39mtorch\u001b[39;00m\u001b[39m.\u001b[39;00m\u001b[39m_prims_common\u001b[39;00m \u001b[39mas\u001b[39;00m \u001b[39mutils\u001b[39;00m\n\u001b[0;32m     12\u001b[0m \u001b[39mimport\u001b[39;00m \u001b[39mtorch\u001b[39;00m\u001b[39m.\u001b[39;00m\u001b[39mnn\u001b[39;00m\u001b[39m.\u001b[39;00m\u001b[39mfunctional\u001b[39;00m \u001b[39mas\u001b[39;00m \u001b[39mF\u001b[39;00m\n",
      "File \u001b[1;32me:\\python\\setup\\envs\\huggingface\\Lib\\site-packages\\torch\\_prims\\__init__.py:33\u001b[0m\n\u001b[0;32m     17\u001b[0m \u001b[39mfrom\u001b[39;00m \u001b[39mtorch\u001b[39;00m\u001b[39m.\u001b[39;00m\u001b[39m_prims_common\u001b[39;00m \u001b[39mimport\u001b[39;00m (\n\u001b[0;32m     18\u001b[0m     check,\n\u001b[0;32m     19\u001b[0m     Dim,\n\u001b[1;32m   (...)\u001b[0m\n\u001b[0;32m     30\u001b[0m     type_to_dtype,\n\u001b[0;32m     31\u001b[0m )\n\u001b[0;32m     32\u001b[0m \u001b[39mfrom\u001b[39;00m \u001b[39mtorch\u001b[39;00m\u001b[39m.\u001b[39;00m\u001b[39m_prims_common\u001b[39;00m\u001b[39m.\u001b[39;00m\u001b[39mwrappers\u001b[39;00m \u001b[39mimport\u001b[39;00m backwards_not_supported\n\u001b[1;32m---> 33\u001b[0m \u001b[39mfrom\u001b[39;00m \u001b[39mtorch\u001b[39;00m\u001b[39m.\u001b[39;00m\u001b[39m_subclasses\u001b[39;00m\u001b[39m.\u001b[39;00m\u001b[39mfake_tensor\u001b[39;00m \u001b[39mimport\u001b[39;00m FakeTensor, FakeTensorMode\n\u001b[0;32m     34\u001b[0m \u001b[39mfrom\u001b[39;00m \u001b[39mtorch\u001b[39;00m\u001b[39m.\u001b[39;00m\u001b[39moverrides\u001b[39;00m \u001b[39mimport\u001b[39;00m handle_torch_function, has_torch_function\n\u001b[0;32m     35\u001b[0m \u001b[39mfrom\u001b[39;00m \u001b[39mtorch\u001b[39;00m\u001b[39m.\u001b[39;00m\u001b[39mutils\u001b[39;00m\u001b[39m.\u001b[39;00m\u001b[39m_pytree\u001b[39;00m \u001b[39mimport\u001b[39;00m tree_flatten, tree_map, tree_unflatten\n",
      "File \u001b[1;32me:\\python\\setup\\envs\\huggingface\\Lib\\site-packages\\torch\\_subclasses\\__init__.py:3\u001b[0m\n\u001b[0;32m      1\u001b[0m \u001b[39mimport\u001b[39;00m \u001b[39mtorch\u001b[39;00m\n\u001b[1;32m----> 3\u001b[0m \u001b[39mfrom\u001b[39;00m \u001b[39mtorch\u001b[39;00m\u001b[39m.\u001b[39;00m\u001b[39m_subclasses\u001b[39;00m\u001b[39m.\u001b[39;00m\u001b[39mfake_tensor\u001b[39;00m \u001b[39mimport\u001b[39;00m (\n\u001b[0;32m      4\u001b[0m     DynamicOutputShapeException,\n\u001b[0;32m      5\u001b[0m     FakeTensor,\n\u001b[0;32m      6\u001b[0m     FakeTensorMode,\n\u001b[0;32m      7\u001b[0m     UnsupportedFakeTensorException,\n\u001b[0;32m      8\u001b[0m )\n\u001b[0;32m     10\u001b[0m \u001b[39mfrom\u001b[39;00m \u001b[39mtorch\u001b[39;00m\u001b[39m.\u001b[39;00m\u001b[39m_subclasses\u001b[39;00m\u001b[39m.\u001b[39;00m\u001b[39mfake_utils\u001b[39;00m \u001b[39mimport\u001b[39;00m CrossRefFakeMode\n\u001b[0;32m     12\u001b[0m __all__ \u001b[39m=\u001b[39m [\n\u001b[0;32m     13\u001b[0m     \u001b[39m\"\u001b[39m\u001b[39mFakeTensor\u001b[39m\u001b[39m\"\u001b[39m,\n\u001b[0;32m     14\u001b[0m     \u001b[39m\"\u001b[39m\u001b[39mFakeTensorMode\u001b[39m\u001b[39m\"\u001b[39m,\n\u001b[1;32m   (...)\u001b[0m\n\u001b[0;32m     17\u001b[0m     \u001b[39m\"\u001b[39m\u001b[39mCrossRefFakeMode\u001b[39m\u001b[39m\"\u001b[39m,\n\u001b[0;32m     18\u001b[0m ]\n",
      "File \u001b[1;32me:\\python\\setup\\envs\\huggingface\\Lib\\site-packages\\torch\\_subclasses\\fake_tensor.py:13\u001b[0m\n\u001b[0;32m     10\u001b[0m \u001b[39mfrom\u001b[39;00m \u001b[39mweakref\u001b[39;00m \u001b[39mimport\u001b[39;00m ReferenceType\n\u001b[0;32m     12\u001b[0m \u001b[39mimport\u001b[39;00m \u001b[39mtorch\u001b[39;00m\n\u001b[1;32m---> 13\u001b[0m \u001b[39mfrom\u001b[39;00m \u001b[39mtorch\u001b[39;00m\u001b[39m.\u001b[39;00m\u001b[39m_guards\u001b[39;00m \u001b[39mimport\u001b[39;00m Source\n\u001b[0;32m     14\u001b[0m \u001b[39mfrom\u001b[39;00m \u001b[39mtorch\u001b[39;00m\u001b[39m.\u001b[39;00m\u001b[39m_ops\u001b[39;00m \u001b[39mimport\u001b[39;00m OpOverload\n\u001b[0;32m     15\u001b[0m \u001b[39mfrom\u001b[39;00m \u001b[39mtorch\u001b[39;00m\u001b[39m.\u001b[39;00m\u001b[39m_prims_common\u001b[39;00m \u001b[39mimport\u001b[39;00m (\n\u001b[0;32m     16\u001b[0m     elementwise_dtypes,\n\u001b[0;32m     17\u001b[0m     ELEMENTWISE_TYPE_PROMOTION_KIND,\n\u001b[0;32m     18\u001b[0m     is_float_dtype,\n\u001b[0;32m     19\u001b[0m     is_integer_dtype,\n\u001b[0;32m     20\u001b[0m )\n",
      "File \u001b[1;32me:\\python\\setup\\envs\\huggingface\\Lib\\site-packages\\torch\\_guards.py:78\u001b[0m\n\u001b[0;32m     74\u001b[0m \u001b[39mclass\u001b[39;00m \u001b[39mGuardBuilderBase\u001b[39;00m:\n\u001b[0;32m     75\u001b[0m     \u001b[39mpass\u001b[39;00m\n\u001b[1;32m---> 78\u001b[0m \u001b[39mclass\u001b[39;00m \u001b[39mShapeGuard\u001b[39;00m(NamedTuple):\n\u001b[0;32m     79\u001b[0m     expr: sympy\u001b[39m.\u001b[39mExpr\n\u001b[0;32m     80\u001b[0m     stack: \u001b[39mstr\u001b[39m\n",
      "File \u001b[1;32me:\\python\\setup\\envs\\huggingface\\Lib\\site-packages\\torch\\_guards.py:79\u001b[0m, in \u001b[0;36mShapeGuard\u001b[1;34m()\u001b[0m\n\u001b[0;32m     78\u001b[0m \u001b[39mclass\u001b[39;00m \u001b[39mShapeGuard\u001b[39;00m(NamedTuple):\n\u001b[1;32m---> 79\u001b[0m     expr: sympy\u001b[39m.\u001b[39mExpr\n\u001b[0;32m     80\u001b[0m     stack: \u001b[39mstr\u001b[39m\n",
      "\u001b[1;31mAttributeError\u001b[0m: module 'sympy' has no attribute 'Expr'"
     ]
    }
   ],
   "source": [
    "import torch\n",
    "from diffusers import StableDiffusionPipeline\n",
    "pipe = StableDiffusionPipeline.from_pretrained(\n",
    "    \"runwayml/stable-diffusion-v1-5\",\n",
    "    torch_dtype=torch.float16\n",
    ")\n",
    "pipe.to(\"cuda\")"
   ]
  },
  {
   "cell_type": "code",
   "execution_count": 2,
   "id": "a94ed794",
   "metadata": {},
   "outputs": [
    {
     "ename": "NameError",
     "evalue": "name '_C' is not defined",
     "output_type": "error",
     "traceback": [
      "\u001b[1;31m---------------------------------------------------------------------------\u001b[0m",
      "\u001b[1;31mNameError\u001b[0m                                 Traceback (most recent call last)",
      "\u001b[1;32me:\\0、大四上\\2、深度学习 期末考试\\课程文档\\ch1\\lec1-huggingface.ipynb Cell 21\u001b[0m line \u001b[0;36m1\n\u001b[1;32m----> <a href='vscode-notebook-cell:/e%3A/0%E3%80%81%E5%A4%A7%E5%9B%9B%E4%B8%8A/2%E3%80%81%E6%B7%B1%E5%BA%A6%E5%AD%A6%E4%B9%A0%20%E6%9C%9F%E6%9C%AB%E8%80%83%E8%AF%95/%E8%AF%BE%E7%A8%8B%E6%96%87%E6%A1%A3/ch1/lec1-huggingface.ipynb#X26sZmlsZQ%3D%3D?line=0'>1</a>\u001b[0m \u001b[39mimport\u001b[39;00m \u001b[39mtorch\u001b[39;00m\n\u001b[0;32m      <a href='vscode-notebook-cell:/e%3A/0%E3%80%81%E5%A4%A7%E5%9B%9B%E4%B8%8A/2%E3%80%81%E6%B7%B1%E5%BA%A6%E5%AD%A6%E4%B9%A0%20%E6%9C%9F%E6%9C%AB%E8%80%83%E8%AF%95/%E8%AF%BE%E7%A8%8B%E6%96%87%E6%A1%A3/ch1/lec1-huggingface.ipynb#X26sZmlsZQ%3D%3D?line=1'>2</a>\u001b[0m \u001b[39mprint\u001b[39m(torch\u001b[39m.\u001b[39m__version__)\n\u001b[0;32m      <a href='vscode-notebook-cell:/e%3A/0%E3%80%81%E5%A4%A7%E5%9B%9B%E4%B8%8A/2%E3%80%81%E6%B7%B1%E5%BA%A6%E5%AD%A6%E4%B9%A0%20%E6%9C%9F%E6%9C%AB%E8%80%83%E8%AF%95/%E8%AF%BE%E7%A8%8B%E6%96%87%E6%A1%A3/ch1/lec1-huggingface.ipynb#X26sZmlsZQ%3D%3D?line=2'>3</a>\u001b[0m \u001b[39mprint\u001b[39m(torch\u001b[39m.\u001b[39mcuda\u001b[39m.\u001b[39mis_available())\n",
      "File \u001b[1;32me:\\python\\setup\\envs\\huggingface\\Lib\\site-packages\\torch\\__init__.py:457\u001b[0m\n\u001b[0;32m    443\u001b[0m         \u001b[39mraise\u001b[39;00m \u001b[39mImportError\u001b[39;00m(textwrap\u001b[39m.\u001b[39mdedent(\u001b[39m'''\u001b[39m\n\u001b[0;32m    444\u001b[0m \u001b[39m            Failed to load PyTorch C extensions:\u001b[39m\n\u001b[0;32m    445\u001b[0m \u001b[39m                It appears that PyTorch has loaded the `torch/_C` folder\u001b[39m\n\u001b[1;32m   (...)\u001b[0m\n\u001b[0;32m    453\u001b[0m \u001b[39m                or by running Python from a different directory.\u001b[39m\n\u001b[0;32m    454\u001b[0m \u001b[39m            \u001b[39m\u001b[39m'''\u001b[39m)\u001b[39m.\u001b[39mstrip()) \u001b[39mfrom\u001b[39;00m \u001b[39mNone\u001b[39;00m\n\u001b[0;32m    455\u001b[0m     \u001b[39mraise\u001b[39;00m  \u001b[39m# If __file__ is not None the cause is unknown, so just re-raise.\u001b[39;00m\n\u001b[1;32m--> 457\u001b[0m \u001b[39mfor\u001b[39;00m name \u001b[39min\u001b[39;00m \u001b[39mdir\u001b[39m(_C):\n\u001b[0;32m    458\u001b[0m     \u001b[39mif\u001b[39;00m name[\u001b[39m0\u001b[39m] \u001b[39m!=\u001b[39m \u001b[39m'\u001b[39m\u001b[39m_\u001b[39m\u001b[39m'\u001b[39m \u001b[39mand\u001b[39;00m \u001b[39mnot\u001b[39;00m name\u001b[39m.\u001b[39mendswith(\u001b[39m'\u001b[39m\u001b[39mBase\u001b[39m\u001b[39m'\u001b[39m):\n\u001b[0;32m    459\u001b[0m         __all__\u001b[39m.\u001b[39mappend(name)\n",
      "\u001b[1;31mNameError\u001b[0m: name '_C' is not defined"
     ]
    }
   ],
   "source": [
    "import torch\n",
    "print(torch.__version__)\n",
    "print(torch.cuda.is_available())"
   ]
  },
  {
   "cell_type": "code",
   "execution_count": 5,
   "id": "02367eaf",
   "metadata": {},
   "outputs": [
    {
     "data": {
      "application/vnd.jupyter.widget-view+json": {
       "model_id": "47cdc9d1fcfe45febe2ebfa703fca494",
       "version_major": 2,
       "version_minor": 0
      },
      "text/plain": [
       "  0%|          | 0/50 [00:00<?, ?it/s]"
      ]
     },
     "metadata": {},
     "output_type": "display_data"
    }
   ],
   "source": [
    "prompt = \"A tree on the moon\"\n",
    "pipe.enable_attention_slicing()\n",
    "image = pipe(prompt, num_inference_steps=50).images[0]"
   ]
  },
  {
   "cell_type": "code",
   "execution_count": null,
   "id": "a5e3ad9f",
   "metadata": {
    "scrolled": true
   },
   "outputs": [],
   "source": [
    "image"
   ]
  },
  {
   "cell_type": "markdown",
   "id": "4e25105e",
   "metadata": {},
   "source": [
    "控制随机数种子："
   ]
  },
  {
   "cell_type": "code",
   "execution_count": null,
   "id": "a15d864f",
   "metadata": {},
   "outputs": [],
   "source": [
    "gen = torch.Generator(device=\"cuda\").manual_seed(123)\n",
    "image = pipe(prompt, generator=gen, num_inference_steps=50).images[0]\n",
    "image"
   ]
  }
 ],
 "metadata": {
  "kernelspec": {
   "display_name": "Python 3 (ipykernel)",
   "language": "python",
   "name": "python3"
  },
  "language_info": {
   "codemirror_mode": {
    "name": "ipython",
    "version": 3
   },
   "file_extension": ".py",
   "mimetype": "text/x-python",
   "name": "python",
   "nbconvert_exporter": "python",
   "pygments_lexer": "ipython3",
   "version": "3.11.5"
  }
 },
 "nbformat": 4,
 "nbformat_minor": 5
}
