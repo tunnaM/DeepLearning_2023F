{
 "cells": [
  {
   "cell_type": "code",
   "execution_count": 1,
   "id": "embedded-browse",
   "metadata": {},
   "outputs": [],
   "source": [
    "import numpy as np\n",
    "import torch\n",
    "from torch import nn\n",
    "import torch.nn.functional as F"
   ]
  },
  {
   "cell_type": "code",
   "execution_count": 2,
   "id": "orange-debate",
   "metadata": {},
   "outputs": [],
   "source": [
    "x = torch.tensor([[0.0, 0.0],\n",
    "                  [0.0, 1.0],\n",
    "                  [1.0, 0.0],\n",
    "                  [1.0, 1.0]])\n",
    "y = torch.tensor([[0.0],\n",
    "                  [1.0],\n",
    "                  [1.0],\n",
    "                  [0.0]])\n",
    "\n",
    "n = x.shape[0]\n",
    "p = x.shape[1]\n",
    "d = y.shape[1]\n",
    "r = 5\n",
    "\n",
    "class MyModel(nn.Module):\n",
    "    def __init__(self, in_dim, out_dim, hidden_dim):\n",
    "        super(MyModel, self).__init__()\n",
    "        self.fc1 = nn.Linear(in_dim, hidden_dim)\n",
    "        self.fc2 = nn.Linear(hidden_dim, out_dim)\n",
    "\n",
    "    def forward(self, x):\n",
    "        z1 = self.fc1(x)\n",
    "        a1 = F.softplus(z1)\n",
    "        z2 = self.fc2(a1)\n",
    "        phat = torch.sigmoid(z2)\n",
    "        return phat\n",
    "\n",
    "def get_losses(OptClass, nepoch=1000, lr=0.1):\n",
    "    model = MyModel(in_dim=p, out_dim=d, hidden_dim=r)\n",
    "    opt = OptClass(model.parameters(), lr=lr)\n",
    "    losses = []\n",
    "    \n",
    "    for i in range(nepoch):\n",
    "        phat = model(x)\n",
    "        loss = torch.mean(-y * torch.log(phat) - (1.0 - y) * torch.log(1.0 - phat))\n",
    "\n",
    "        opt.zero_grad()\n",
    "        loss.backward()\n",
    "        opt.step()\n",
    "        \n",
    "        losses.append(loss.item())\n",
    "\n",
    "    return losses"
   ]
  },
  {
   "cell_type": "code",
   "execution_count": 3,
   "id": "southeast-maximum",
   "metadata": {},
   "outputs": [],
   "source": [
    "nepoch = 2000\n",
    "lr = 0.1\n",
    "\n",
    "np.random.seed(123)\n",
    "torch.random.manual_seed(123)\n",
    "losses_sgd = get_losses(torch.optim.SGD, nepoch, lr)\n",
    "\n",
    "np.random.seed(123)\n",
    "torch.random.manual_seed(123)\n",
    "losses_adagrad = get_losses(torch.optim.Adagrad, nepoch, lr)\n",
    "\n",
    "np.random.seed(123)\n",
    "torch.random.manual_seed(123)\n",
    "losses_adadelta = get_losses(torch.optim.Adadelta, nepoch, lr)\n",
    "\n",
    "np.random.seed(123)\n",
    "torch.random.manual_seed(123)\n",
    "losses_rmsprop = get_losses(torch.optim.RMSprop, nepoch, lr)\n",
    "\n",
    "np.random.seed(123)\n",
    "torch.random.manual_seed(123)\n",
    "losses_adam = get_losses(torch.optim.Adam, nepoch, lr)"
   ]
  },
  {
   "cell_type": "code",
   "execution_count": 4,
   "id": "2ee1e851",
   "metadata": {},
   "outputs": [
    {
     "ename": "ModuleNotFoundError",
     "evalue": "No module named 'seaborn'",
     "output_type": "error",
     "traceback": [
      "\u001b[1;31m---------------------------------------------------------------------------\u001b[0m",
      "\u001b[1;31mModuleNotFoundError\u001b[0m                       Traceback (most recent call last)",
      "Input \u001b[1;32mIn [4]\u001b[0m, in \u001b[0;36m<cell line: 3>\u001b[1;34m()\u001b[0m\n\u001b[0;32m      1\u001b[0m \u001b[38;5;28;01mimport\u001b[39;00m \u001b[38;5;21;01mpandas\u001b[39;00m \u001b[38;5;28;01mas\u001b[39;00m \u001b[38;5;21;01mpd\u001b[39;00m\n\u001b[0;32m      2\u001b[0m \u001b[38;5;28;01mimport\u001b[39;00m \u001b[38;5;21;01mmatplotlib\u001b[39;00m\u001b[38;5;21;01m.\u001b[39;00m\u001b[38;5;21;01mpyplot\u001b[39;00m \u001b[38;5;28;01mas\u001b[39;00m \u001b[38;5;21;01mplt\u001b[39;00m\n\u001b[1;32m----> 3\u001b[0m \u001b[38;5;28;01mimport\u001b[39;00m \u001b[38;5;21;01mseaborn\u001b[39;00m \u001b[38;5;28;01mas\u001b[39;00m \u001b[38;5;21;01msns\u001b[39;00m\n\u001b[0;32m      5\u001b[0m dat \u001b[38;5;241m=\u001b[39m pd\u001b[38;5;241m.\u001b[39mDataFrame({\u001b[38;5;124m\"\u001b[39m\u001b[38;5;124mx\u001b[39m\u001b[38;5;124m\"\u001b[39m: \u001b[38;5;28mrange\u001b[39m(nepoch), \u001b[38;5;124m\"\u001b[39m\u001b[38;5;124msgd\u001b[39m\u001b[38;5;124m\"\u001b[39m: losses_sgd, \u001b[38;5;124m\"\u001b[39m\u001b[38;5;124madagrad\u001b[39m\u001b[38;5;124m\"\u001b[39m: losses_adagrad,\n\u001b[0;32m      6\u001b[0m                     \u001b[38;5;124m\"\u001b[39m\u001b[38;5;124madadelta\u001b[39m\u001b[38;5;124m\"\u001b[39m: losses_adadelta, \u001b[38;5;124m\"\u001b[39m\u001b[38;5;124mrmsprop\u001b[39m\u001b[38;5;124m\"\u001b[39m: losses_rmsprop, \u001b[38;5;124m\"\u001b[39m\u001b[38;5;124madam\u001b[39m\u001b[38;5;124m\"\u001b[39m: losses_adam,\n\u001b[0;32m      7\u001b[0m                     \u001b[38;5;124m\"\u001b[39m\u001b[38;5;124msgd_log\u001b[39m\u001b[38;5;124m\"\u001b[39m: np\u001b[38;5;241m.\u001b[39mlog(losses_sgd), \u001b[38;5;124m\"\u001b[39m\u001b[38;5;124madagrad_log\u001b[39m\u001b[38;5;124m\"\u001b[39m: np\u001b[38;5;241m.\u001b[39mlog(losses_adagrad),\n\u001b[0;32m      8\u001b[0m                     \u001b[38;5;124m\"\u001b[39m\u001b[38;5;124madadelta_log\u001b[39m\u001b[38;5;124m\"\u001b[39m: np\u001b[38;5;241m.\u001b[39mlog(losses_adadelta), \u001b[38;5;124m\"\u001b[39m\u001b[38;5;124mrmsprop_log\u001b[39m\u001b[38;5;124m\"\u001b[39m: np\u001b[38;5;241m.\u001b[39mlog(losses_rmsprop),\n\u001b[0;32m      9\u001b[0m                     \u001b[38;5;124m\"\u001b[39m\u001b[38;5;124madam_log\u001b[39m\u001b[38;5;124m\"\u001b[39m: np\u001b[38;5;241m.\u001b[39mlog(losses_adam)})\n\u001b[0;32m     11\u001b[0m fig \u001b[38;5;241m=\u001b[39m plt\u001b[38;5;241m.\u001b[39mfigure(figsize\u001b[38;5;241m=\u001b[39m(\u001b[38;5;241m12\u001b[39m, \u001b[38;5;241m12\u001b[39m))\n",
      "\u001b[1;31mModuleNotFoundError\u001b[0m: No module named 'seaborn'"
     ]
    }
   ],
   "source": [
    "import pandas as pd\n",
    "import matplotlib.pyplot as plt\n",
    "import seaborn as sns\n",
    "\n",
    "dat = pd.DataFrame({\"x\": range(nepoch), \"sgd\": losses_sgd, \"adagrad\": losses_adagrad,\n",
    "                    \"adadelta\": losses_adadelta, \"rmsprop\": losses_rmsprop, \"adam\": losses_adam,\n",
    "                    \"sgd_log\": np.log(losses_sgd), \"adagrad_log\": np.log(losses_adagrad),\n",
    "                    \"adadelta_log\": np.log(losses_adadelta), \"rmsprop_log\": np.log(losses_rmsprop),\n",
    "                    \"adam_log\": np.log(losses_adam)})\n",
    "\n",
    "fig = plt.figure(figsize=(12, 12))\n",
    "sub = fig.add_subplot(211)\n",
    "sns.lineplot(data=dat, x=\"x\", y=\"sgd\", label=\"SGD\")\n",
    "sns.lineplot(data=dat, x=\"x\", y=\"adagrad\", label=\"Adagrad\")\n",
    "sns.lineplot(data=dat, x=\"x\", y=\"adadelta\", label=\"Adadelta\")\n",
    "sns.lineplot(data=dat, x=\"x\", y=\"rmsprop\", label=\"RMSprop\")\n",
    "sns.lineplot(data=dat, x=\"x\", y=\"adam\", label=\"Adam\")\n",
    "plt.xlabel(\"Epoch\")\n",
    "plt.ylabel(\"Loss\")\n",
    "plt.ylim(0, 1)\n",
    "\n",
    "sub = fig.add_subplot(212)\n",
    "sns.lineplot(data=dat, x=\"x\", y=\"sgd_log\", label=\"SGD\")\n",
    "sns.lineplot(data=dat, x=\"x\", y=\"adagrad_log\", label=\"Adagrad\")\n",
    "sns.lineplot(data=dat, x=\"x\", y=\"adadelta_log\", label=\"Adadelta\")\n",
    "sns.lineplot(data=dat, x=\"x\", y=\"rmsprop_log\", label=\"RMSprop\")\n",
    "sns.lineplot(data=dat, x=\"x\", y=\"adam_log\", label=\"Adam\")\n",
    "plt.xlabel(\"Epoch\")\n",
    "plt.ylabel(\"Log-scale Loss\")\n",
    "\n",
    "dat"
   ]
  }
 ],
 "metadata": {
  "kernelspec": {
   "display_name": "Python 3 (ipykernel)",
   "language": "python",
   "name": "python3"
  },
  "language_info": {
   "codemirror_mode": {
    "name": "ipython",
    "version": 3
   },
   "file_extension": ".py",
   "mimetype": "text/x-python",
   "name": "python",
   "nbconvert_exporter": "python",
   "pygments_lexer": "ipython3",
   "version": "3.8.5"
  }
 },
 "nbformat": 4,
 "nbformat_minor": 5
}
