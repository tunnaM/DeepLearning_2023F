{
 "cells": [
  {
   "cell_type": "markdown",
   "metadata": {},
   "source": [
    "# 作业1：问卷+环境配置"
   ]
  },
  {
   "cell_type": "markdown",
   "metadata": {},
   "source": [
    "## 0. 说明"
   ]
  },
  {
   "cell_type": "markdown",
   "metadata": {},
   "source": [
    "### 0.1 关于 Jupyter Notebook"
   ]
  },
  {
   "cell_type": "markdown",
   "metadata": {},
   "source": [
    "Jupyter Notebook 是一种可编程的文档类型，类似于 R Markdown。Jupyter Notebook 文档以一个个单元格组成，每个单元格可以是 Markdown 或者 Python 代码：前者通常用来写文字说明，后者用来运行代码。比如你双击第一行的标题，就会看到标题的 Markdown 代码（以 `#` 符号开头），再按 `Ctrl+Enter`，就会显示 Markdown 渲染的结果。"
   ]
  },
  {
   "cell_type": "markdown",
   "metadata": {},
   "source": [
    "而对于代码单元格， `Ctrl+Enter` 会执行单元格内的代码，例如用鼠标点击下面的单元格然后按键后会出现形如 `Out[x]` 的输出结果。"
   ]
  },
  {
   "cell_type": "code",
   "execution_count": 1,
   "metadata": {},
   "outputs": [
    {
     "data": {
      "text/plain": [
       "3.141592653589793"
      ]
     },
     "execution_count": 1,
     "metadata": {},
     "output_type": "execute_result"
    }
   ],
   "source": [
    "import math\n",
    "\n",
    "math.pi"
   ]
  },
  {
   "cell_type": "markdown",
   "metadata": {},
   "source": [
    "我们的作业中既有需要说明的文字，又有需要编写的程序，前者用 Markdown 单元格，后者用代码单元格。单元格的类型可以在上方的下拉菜单中选择，也可以通过快捷键实现（通过菜单 Cell => Cell Type 查看）。"
   ]
  },
  {
   "cell_type": "markdown",
   "metadata": {},
   "source": [
    "### 0.2 关于 Markdown"
   ]
  },
  {
   "cell_type": "markdown",
   "metadata": {},
   "source": [
    "Markdown 是常用的文档格式化语法，如果有不熟悉的，可以参考[这里](https://www.jianshu.com/p/335db5716248)的教程。需要说明的是 Jupyter Notebook 里可以插入数学公式，例如 $f(x)=\\frac{1}{\\sqrt{2\\pi}}e^{-x^2/2}$。双击这个单元格来查看源代码。"
   ]
  },
  {
   "cell_type": "markdown",
   "metadata": {},
   "source": [
    "## 1. 问卷"
   ]
  },
  {
   "cell_type": "markdown",
   "metadata": {},
   "source": [
    "思考并回答**至少四个**问题："
   ]
  },
  {
   "cell_type": "markdown",
   "metadata": {},
   "source": [
    "- 你现在对深度学习有多少了解？"
   ]
  },
  {
   "cell_type": "markdown",
   "metadata": {},
   "source": [
    "简单使用过cnn,rnn,lstm，但了解较浅"
   ]
  },
  {
   "cell_type": "markdown",
   "metadata": {},
   "source": [
    "- 你预期今后的工作/研究与深度学习的关联大吗？"
   ]
  },
  {
   "cell_type": "markdown",
   "metadata": {},
   "source": [
    "感觉关联程度会和具体岗位相关，对DA/DS/DE/MLE的偏好还在探索中..."
   ]
  },
  {
   "cell_type": "markdown",
   "metadata": {},
   "source": [
    "- 你想从这门课学到什么？"
   ]
  },
  {
   "cell_type": "markdown",
   "metadata": {},
   "source": [
    "希望对深度学习整体流程有所了解，对各种算法的分类和区别有所了解，之前只负责部分相关内容，还没打通整个处理训练的流程"
   ]
  },
  {
   "cell_type": "markdown",
   "metadata": {},
   "source": [
    "- 你还有哪些喜欢的获取知识的渠道（例如B站，知乎，技术博客，公众号等）？如果有请向大家推荐一些，**具体到账号或网址**，不需要与深度学习相关。"
   ]
  },
  {
   "cell_type": "markdown",
   "metadata": {},
   "source": []
  },
  {
   "cell_type": "markdown",
   "metadata": {},
   "source": [
    "- 你对编程的喜欢/厌恶程度是多少？1为很厌恶，10为很喜欢。"
   ]
  },
  {
   "cell_type": "markdown",
   "metadata": {},
   "source": [
    "10"
   ]
  },
  {
   "cell_type": "markdown",
   "metadata": {},
   "source": [
    "- 你喜欢/**不**喜欢的上课方式是怎样的？"
   ]
  },
  {
   "cell_type": "markdown",
   "metadata": {},
   "source": []
  },
  {
   "cell_type": "markdown",
   "metadata": {},
   "source": [
    "## 2. 安装 PyTorch"
   ]
  },
  {
   "cell_type": "markdown",
   "metadata": {},
   "source": [
    "请参照课程文档《PyTorch安装》的提示配置好 PyTorch 环境。如果你的电脑具备 Nvidia 显卡，优先尝试安装 GPU 版本。用如下的代码验证 Conda 和 PyTorch 安装是否成功："
   ]
  },
  {
   "cell_type": "code",
   "execution_count": 2,
   "metadata": {},
   "outputs": [
    {
     "name": "stdout",
     "output_type": "stream",
     "text": [
      "\n",
      "     active environment : None\n",
      "       user config file : C:\\Users\\DELL\\.condarc\n",
      " populated config files : C:\\Users\\DELL\\.condarc\n",
      "          conda version : 23.7.4\n",
      "    conda-build version : 3.21.6\n",
      "         python version : 3.9.18.final.0\n",
      "       virtual packages : __archspec=1=x86_64\n",
      "                          __cuda=12.2=0\n",
      "                          __win=0=0\n",
      "       base environment : E:\\python\\setup  (writable)\n",
      "      conda av data dir : E:\\python\\setup\\etc\\conda\n",
      "  conda av metadata url : None\n",
      "           channel URLs : https://repo.anaconda.com/pkgs/main/win-64\n",
      "                          https://repo.anaconda.com/pkgs/main/noarch\n",
      "                          https://repo.anaconda.com/pkgs/r/win-64\n",
      "                          https://repo.anaconda.com/pkgs/r/noarch\n",
      "                          https://repo.anaconda.com/pkgs/msys2/win-64\n",
      "                          https://repo.anaconda.com/pkgs/msys2/noarch\n",
      "          package cache : E:\\python\\setup\\pkgs\n",
      "                          C:\\Users\\DELL\\.conda\\pkgs\n",
      "                          C:\\Users\\DELL\\AppData\\Local\\conda\\conda\\pkgs\n",
      "       envs directories : E:\\python\\setup\\envs\n",
      "                          C:\\Users\\DELL\\.conda\\envs\n",
      "                          C:\\Users\\DELL\\AppData\\Local\\conda\\conda\\envs\n",
      "               platform : win-64\n",
      "             user-agent : conda/23.7.4 requests/2.31.0 CPython/3.9.18 Windows/10 Windows/10.0.19042 aau/0.4.0 c/JPqXBDcvhbvoA24DeAP8jg s/3bjKX5kgYBHmmdA5efGrqw e/EGaHA-SND31hadsZpz2zMg\n",
      "          administrator : False\n",
      "             netrc file : None\n",
      "           offline mode : False\n",
      "\n",
      "\n"
     ]
    }
   ],
   "source": [
    "!conda info"
   ]
  },
  {
   "cell_type": "code",
   "execution_count": 3,
   "metadata": {},
   "outputs": [
    {
     "data": {
      "text/plain": [
       "tensor([[-0.1115,  0.1204, -0.3696],\n",
       "        [-0.2404, -1.1969,  0.2093],\n",
       "        [-0.9724, -0.7550,  0.3239],\n",
       "        [-0.1085,  0.2103, -0.3908],\n",
       "        [ 0.2350,  0.6653,  0.3528]])"
      ]
     },
     "execution_count": 3,
     "metadata": {},
     "output_type": "execute_result"
    }
   ],
   "source": [
    "import torch\n",
    "torch.manual_seed(123)\n",
    "torch.randn(5, 3)"
   ]
  },
  {
   "cell_type": "code",
   "execution_count": 4,
   "metadata": {
    "scrolled": true
   },
   "outputs": [
    {
     "data": {
      "text/plain": [
       "True"
      ]
     },
     "execution_count": 4,
     "metadata": {},
     "output_type": "execute_result"
    }
   ],
   "source": [
    "torch.cuda.is_available()"
   ]
  },
  {
   "cell_type": "markdown",
   "metadata": {},
   "source": [
    "## 3. Diffusion Model（选做）"
   ]
  },
  {
   "cell_type": "markdown",
   "metadata": {},
   "source": [
    "按照 `lec1-huggingface.ipynb` 的提示配置好 Hugging Face 环境，并运行一个 Stable Diffusion 文生图的例子。发挥你的创意选择 Prompt 提示词，并在硬件条件允许的情况下适当增加 `num_inference_steps` 参数以提升生成质量。如果模型下载过慢，可以从实验室机房的电脑中复制模型文件，路径为 `C:\\Users\\<用户名>\\.cache\\huggingface`。将此文件夹复制到你自己电脑的对应位置（Windows 下为你用户名的对应文件夹，Mac/Linux 下为 `~/.cache/huggingface`。）"
   ]
  },
  {
   "cell_type": "code",
   "execution_count": null,
   "metadata": {},
   "outputs": [],
   "source": []
  }
 ],
 "metadata": {
  "kernelspec": {
   "display_name": "Python 3 (ipykernel)",
   "language": "python",
   "name": "python3"
  },
  "language_info": {
   "codemirror_mode": {
    "name": "ipython",
    "version": 3
   },
   "file_extension": ".py",
   "mimetype": "text/x-python",
   "name": "python",
   "nbconvert_exporter": "python",
   "pygments_lexer": "ipython3",
   "version": "3.8.5"
  }
 },
 "nbformat": 4,
 "nbformat_minor": 4
}
