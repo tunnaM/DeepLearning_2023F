{
 "cells": [
  {
   "cell_type": "markdown",
   "id": "5a1368f0",
   "metadata": {},
   "source": [
    "# 作业4：卷积神经网络实践"
   ]
  },
  {
   "cell_type": "markdown",
   "id": "294a04c2",
   "metadata": {},
   "source": [
    "本次作业将练习卷积神经网络，利用卷积层和全连接层实现手写数字的识别。"
   ]
  },
  {
   "cell_type": "markdown",
   "id": "f9ee659c",
   "metadata": {},
   "source": [
    "## 1. 目标"
   ]
  },
  {
   "cell_type": "markdown",
   "id": "997082ed",
   "metadata": {},
   "source": [
    "通过对 MNIST 数据进行训练，构建一个简单的图像分类模型，对图片中的数字进行识别。你将利用该模型对自己真实手写出的数字进行预测，观察模型效果。"
   ]
  },
  {
   "cell_type": "markdown",
   "id": "0490f78e",
   "metadata": {},
   "source": [
    "## 2. 主要步骤"
   ]
  },
  {
   "cell_type": "markdown",
   "id": "9b786836",
   "metadata": {},
   "source": [
    "1. 获取数据\n",
    "2. 定义模型结构\n",
    "3. 创建模型类\n",
    "4. 定义损失函数\n",
    "5. 编写训练循环\n",
    "6. 实施预测"
   ]
  },
  {
   "cell_type": "markdown",
   "id": "45cd7d88",
   "metadata": {},
   "source": [
    "### 2.1 获取数据"
   ]
  },
  {
   "cell_type": "markdown",
   "id": "ccc63241",
   "metadata": {},
   "source": [
    "我们使用知名的 MNIST 数据集，它可以从 PyTorch 中利用工具函数下载得到。原始的 MNIST 数据训练集大小为60000，我们随机抽取其中的10000个观测进行简单的训练，以及10个观测进行预测展示。以下函数会在当前目录建立一个名为 data 的文件夹，其中会包含下载得到的数据集。"
   ]
  },
  {
   "cell_type": "markdown",
   "id": "2069eef6",
   "metadata": {},
   "source": [
    "**注意：请在任何程序的最开始加上随机数种子的设置。请保持这一习惯。**"
   ]
  },
  {
   "cell_type": "code",
   "execution_count": 1,
   "id": "57301cf0",
   "metadata": {},
   "outputs": [],
   "source": [
    "import numpy as np\n",
    "import torch\n",
    "from torchvision import datasets\n",
    "from torchvision.transforms import ToTensor\n",
    "from torch.utils.data import DataLoader\n",
    "\n",
    "np.random.seed(123456)\n",
    "torch.manual_seed(123456)\n",
    "\n",
    "mnist = datasets.MNIST(\n",
    "    root=\"data\",\n",
    "    train=True,\n",
    "    download=True,\n",
    "    transform=ToTensor()\n",
    ")\n",
    "loader = DataLoader(mnist, batch_size=10010, shuffle=True)"
   ]
  },
  {
   "cell_type": "markdown",
   "id": "afdaba44",
   "metadata": {},
   "source": [
    "我们一次性取出随机抽取到的10010个观测，其中 x 是图片数据，y 是图片对应的数字。"
   ]
  },
  {
   "cell_type": "code",
   "execution_count": 2,
   "id": "61ae2977",
   "metadata": {},
   "outputs": [],
   "source": [
    "x, y = next(iter(loader))"
   ]
  },
  {
   "cell_type": "markdown",
   "id": "145971d1",
   "metadata": {},
   "source": [
    "一个习惯性动作是查看数据的大小和维度。"
   ]
  },
  {
   "cell_type": "code",
   "execution_count": 3,
   "id": "d67073f6",
   "metadata": {},
   "outputs": [
    {
     "name": "stdout",
     "output_type": "stream",
     "text": [
      "torch.Size([10010, 1, 28, 28])\n",
      "torch.Size([10010])\n"
     ]
    }
   ],
   "source": [
    "print(x.shape)\n",
    "print(y.shape)"
   ]
  },
  {
   "cell_type": "markdown",
   "id": "8fbb19ee",
   "metadata": {},
   "source": [
    "将最后的10张图片取为测试集："
   ]
  },
  {
   "cell_type": "code",
   "execution_count": 4,
   "id": "25db4998",
   "metadata": {},
   "outputs": [
    {
     "name": "stdout",
     "output_type": "stream",
     "text": [
      "torch.Size([10000, 1, 28, 28])\n",
      "torch.Size([10, 1, 28, 28])\n"
     ]
    }
   ],
   "source": [
    "xtest = x[-10:]\n",
    "ytest = y[-10:]\n",
    "x = x[:-10]\n",
    "y = y[:-10]\n",
    "print(x.shape)\n",
    "print(xtest.shape)"
   ]
  },
  {
   "cell_type": "markdown",
   "id": "f8a0aa24",
   "metadata": {},
   "source": [
    "我们可以利用下面的函数展示图片的内容。如选择第一张测试图片，先将其转换成 Numpy 数组，再绘制图形："
   ]
  },
  {
   "cell_type": "code",
   "execution_count": 5,
   "id": "c2de2307",
   "metadata": {
    "scrolled": true
   },
   "outputs": [
    {
     "name": "stdout",
     "output_type": "stream",
     "text": [
      "(28, 28)\n"
     ]
    },
    {
     "data": {
      "image/png": "[encoded data removed]",
      "text/plain": [
       "<Figure size 432x288 with 1 Axes>"
      ]
     },
     "metadata": {
      "needs_background": "light"
     },
     "output_type": "display_data"
    }
   ],
   "source": [
    "import matplotlib.pyplot as plt\n",
    "\n",
    "img = xtest[0].squeeze().cpu().numpy()\n",
    "print(img.shape)\n",
    "plt.imshow(img, cmap=\"gray\")\n",
    "plt.show()"
   ]
  },
  {
   "cell_type": "markdown",
   "id": "6ad3bff1",
   "metadata": {},
   "source": [
    "接下来请你选择5个你喜欢的数字（10000以下），然后取出训练集中对应位置的图片，并画出它们的内容。"
   ]
  },
  {
   "cell_type": "code",
   "execution_count": 6,
   "id": "49728eff",
   "metadata": {},
   "outputs": [
    {
     "data": {
      "image/png": "[encoded data removed]",
      "text/plain": [
       "<Figure size 432x288 with 1 Axes>"
      ]
     },
     "metadata": {
      "needs_background": "light"
     },
     "output_type": "display_data"
    },
    {
     "data": {
      "image/png": "[encoded data removed]",
      "text/plain": [
       "<Figure size 432x288 with 1 Axes>"
      ]
     },
     "metadata": {
      "needs_background": "light"
     },
     "output_type": "display_data"
    },
    {
     "data": {
      "image/png": "[encoded data removed]",
      "text/plain": [
       "<Figure size 432x288 with 1 Axes>"
      ]
     },
     "metadata": {
      "needs_background": "light"
     },
     "output_type": "display_data"
    },
    {
     "data": {
      "image/png": "[encoded data removed]",
      "text/plain": [
       "<Figure size 432x288 with 1 Axes>"
      ]
     },
     "metadata": {
      "needs_background": "light"
     },
     "output_type": "display_data"
    },
    {
     "data": {
      "image/png": "[encoded data removed]",
      "text/plain": [
       "<Figure size 432x288 with 1 Axes>"
      ]
     },
     "metadata": {
      "needs_background": "light"
     },
     "output_type": "display_data"
    }
   ],
   "source": [
    "img1 = x[15].squeeze().cpu().numpy()\n",
    "plt.imshow(img1,cmap=\"gray\")\n",
    "plt.show()\n",
    "img2 = x[87].squeeze().cpu().numpy()\n",
    "plt.imshow(img2,cmap=\"gray\")\n",
    "plt.show()\n",
    "img3 = x[483].squeeze().cpu().numpy()\n",
    "plt.imshow(img3,cmap=\"gray\")\n",
    "plt.show()\n",
    "img4 = x[2610].squeeze().cpu().numpy()\n",
    "plt.imshow(img4,cmap=\"gray\")\n",
    "plt.show()\n",
    "img5 = x[8253].squeeze().cpu().numpy()\n",
    "plt.imshow(img5,cmap=\"gray\")\n",
    "plt.show()"
   ]
  },
  {
   "cell_type": "markdown",
   "id": "0281c1d2",
   "metadata": {},
   "source": [
    "### 2.2 定义模型结构"
   ]
  },
  {
   "cell_type": "markdown",
   "id": "35776058",
   "metadata": {},
   "source": [
    "我们搭建一个类似于 LeNet-5 的网络，结构如下："
   ]
  },
  {
   "cell_type": "markdown",
   "id": "d175cb17",
   "metadata": {},
   "source": [
    "![](https://pic1.zhimg.com/80/v2-82eabb4c17e90d467197d013f7629f3c_720w.jpg)"
   ]
  },
  {
   "cell_type": "markdown",
   "id": "4ec06760",
   "metadata": {},
   "source": [
    "我们需要创建2个卷积层、2个汇聚层和2个全连接层，**暂时忽略所有的激活函数**。所有隐藏层的函数细节都可以在[官方文档](https://pytorch.org/docs/stable/nn.html)中按分类找到。每一个隐藏层本质上都是将一个数组变换成另一个数组的函数，因此为了确认编写的模型是正确的，可以先用一个小数据进行测试，观察输入和输出的维度。例如，我们先取出前6个观测，此时输入的维度是 `[6, 1, 28, 28]`："
   ]
  },
  {
   "cell_type": "code",
   "execution_count": 7,
   "id": "a26ebf44",
   "metadata": {},
   "outputs": [
    {
     "name": "stdout",
     "output_type": "stream",
     "text": [
      "torch.Size([6, 1, 28, 28])\n",
      "torch.Size([6])\n"
     ]
    }
   ],
   "source": [
    "ns = 6\n",
    "smallx = x[0:ns]\n",
    "smally = y[0:ns]\n",
    "print(smallx.shape)\n",
    "print(smally.shape)"
   ]
  },
  {
   "cell_type": "markdown",
   "id": "ada326cb",
   "metadata": {},
   "source": [
    "接下来创建第1个卷积层，并测试输出的维度。注意到我们可以直接将隐藏层当成一个函数来调用。"
   ]
  },
  {
   "cell_type": "code",
   "execution_count": 8,
   "id": "500c1874",
   "metadata": {},
   "outputs": [
    {
     "name": "stdout",
     "output_type": "stream",
     "text": [
      "torch.Size([6, 20, 24, 24])\n"
     ]
    }
   ],
   "source": [
    "conv1 = torch.nn.Conv2d(in_channels=1, out_channels=20, kernel_size=5, stride=1)\n",
    "res1 = conv1(smallx)\n",
    "print(res1.shape)"
   ]
  },
  {
   "cell_type": "markdown",
   "id": "b2e8230d",
   "metadata": {},
   "source": [
    "可以看到，输出的维度为 `[20, 24, 24]`（不包括第1位的数据批次维度），与之前图中的结果吻合。"
   ]
  },
  {
   "cell_type": "markdown",
   "id": "cfc3c891",
   "metadata": {},
   "source": [
    "接下来，请按照图中提示编写层对象 `pool1`、`conv2`、`pool2`、`fc1` 和 `fc2`，并顺次测试输入与输出的维度，使其与上图匹配。注意，在将一个大小为 `[6, 50, 4, 4]` 的数组（假设叫 `somearray`）传递给 `fc1` 之前，需要先将其变形为只有两个维度的数组，做法是 `somearray.view(-1, 50*4*4)`，其中 -1 表示该位置的大小不变。"
   ]
  },
  {
   "cell_type": "markdown",
   "id": "94e3f58c",
   "metadata": {},
   "source": [
    "```py\n",
    "pool1 = ...\n",
    "res2 = pool1(res1)\n",
    "print(res2.shape)\n",
    "assert res2.shape == (ns, 20, 12, 12), \"pool1 输出形状不对\"\n",
    "\n",
    "conv2 = ...\n",
    "res3 = conv2(res2)\n",
    "print(res3.shape)\n",
    "assert res3.shape == (ns, 50, 8, 8), \"conv2 输出形状不对\"\n",
    "\n",
    "pool2 = ...\n",
    "res4 = pool2(res3)\n",
    "print(res4.shape)\n",
    "assert res4.shape == (ns, 50, 4, 4), \"pool2 输出形状不对\"\n",
    "\n",
    "fc1 = ...\n",
    "res5 = fc1(res4.view(-1, 800))\n",
    "print(res5.shape)\n",
    "assert res5.shape == (ns, 500), \"fc1 输出形状不对\"\n",
    "\n",
    "fc2 = ...\n",
    "res6 = fc2(res5)\n",
    "print(res6.shape)\n",
    "assert res6.shape == (ns, 10), \"fc2 输出形状不对\"\n",
    "```"
   ]
  },
  {
   "cell_type": "code",
   "execution_count": 9,
   "id": "89164f79",
   "metadata": {},
   "outputs": [
    {
     "name": "stdout",
     "output_type": "stream",
     "text": [
      "torch.Size([6, 20, 12, 12])\n"
     ]
    }
   ],
   "source": [
    "pool1 = torch.nn.MaxPool2d(kernel_size=2, stride=2)\n",
    "res2 = pool1(res1)\n",
    "print(res2.shape)\n",
    "assert res2.shape == (ns, 20, 12, 12), \"pool1 输出形状不对\""
   ]
  },
  {
   "cell_type": "code",
   "execution_count": 10,
   "id": "06c546f4",
   "metadata": {},
   "outputs": [
    {
     "name": "stdout",
     "output_type": "stream",
     "text": [
      "torch.Size([6, 50, 8, 8])\n"
     ]
    }
   ],
   "source": [
    "conv2 = torch.nn.Conv2d(in_channels=20, out_channels=50, kernel_size=5, stride=1)\n",
    "res3 = conv2(res2)\n",
    "print(res3.shape)\n",
    "assert res3.shape == (ns, 50, 8, 8), \"conv2 输出形状不对\""
   ]
  },
  {
   "cell_type": "code",
   "execution_count": 11,
   "id": "fd7e013d",
   "metadata": {},
   "outputs": [
    {
     "name": "stdout",
     "output_type": "stream",
     "text": [
      "torch.Size([6, 50, 4, 4])\n"
     ]
    }
   ],
   "source": [
    "pool2 = torch.nn.MaxPool2d(kernel_size=2, stride=2)\n",
    "res4 = pool2(res3)\n",
    "print(res4.shape)\n",
    "assert res4.shape == (ns, 50, 4, 4), \"pool2 输出形状不对\""
   ]
  },
  {
   "cell_type": "code",
   "execution_count": 12,
   "id": "6d708f73",
   "metadata": {},
   "outputs": [
    {
     "name": "stdout",
     "output_type": "stream",
     "text": [
      "torch.Size([6, 500])\n"
     ]
    }
   ],
   "source": [
    "res4_flatten = res4.view(-1, 50 * 4 * 4)\n",
    "fc1 = torch.nn.Linear(50 * 4 * 4, 500)\n",
    "res5 = fc1(res4.view(-1, 800))\n",
    "print(res5.shape)\n",
    "assert res5.shape == (ns, 500), \"fc1 输出形状不对\""
   ]
  },
  {
   "cell_type": "code",
   "execution_count": 13,
   "id": "9ee9a45f",
   "metadata": {},
   "outputs": [
    {
     "name": "stdout",
     "output_type": "stream",
     "text": [
      "torch.Size([6, 10])\n"
     ]
    }
   ],
   "source": [
    "fc2 = torch.nn.Linear(500, 10)\n",
    "res6 = fc2(res5)\n",
    "print(res6.shape)\n",
    "assert res6.shape == (ns, 10), \"fc2 输出形状不对\""
   ]
  },
  {
   "cell_type": "markdown",
   "id": "f623e96f",
   "metadata": {},
   "source": [
    "### 2.3 创建模型类"
   ]
  },
  {
   "cell_type": "markdown",
   "id": "91ba53a4",
   "metadata": {},
   "source": [
    "在确保隐藏层维度都正确后，将所有的隐藏层封装到一个模型类中，其中模型结构在 `__init__()` 中定义，具体的计算过程在 `forward()` 中实现。此时需要加入激活函数。在本模型中，**请在 `conv1`、`conv2` 和 `fc1` 后加入 ReLU 激活函数，并在 `fc2` 后加入 Softmax 激活函数**。"
   ]
  },
  {
   "cell_type": "markdown",
   "id": "415791e4",
   "metadata": {},
   "source": [
    "```py\n",
    "class MyModel(torch.nn.Module):\n",
    "    def __init__(self):\n",
    "        super().__init__()\n",
    "        self.conv1 = ...\n",
    "        self.pool1 = ...\n",
    "        self.conv2 = ...\n",
    "        self.pool2 = ...\n",
    "        self.fc1 = ...\n",
    "        self.fc2 = ...\n",
    "\n",
    "    def forward(self, x):\n",
    "        x = self.conv1(x)\n",
    "        x = torch.relu(x)\n",
    "        x = self.pool1(x)\n",
    "        ...\n",
    "        return x\n",
    "```"
   ]
  },
  {
   "cell_type": "code",
   "execution_count": 14,
   "id": "9f6b79df",
   "metadata": {},
   "outputs": [],
   "source": [
    "class MyModel(torch.nn.Module):\n",
    "    def __init__(self):\n",
    "        super().__init__()\n",
    "        self.conv1 = torch.nn.Conv2d(in_channels=1, out_channels=20, kernel_size=5, stride=1)\n",
    "        self.pool1 = torch.nn.MaxPool2d(kernel_size=2, stride=2)\n",
    "        self.conv2 = torch.nn.Conv2d(in_channels=20, out_channels=50, kernel_size=5, stride=1)\n",
    "        self.pool2 = torch.nn.MaxPool2d(kernel_size=2, stride=2)\n",
    "        self.fc1 = torch.nn.Linear(50 * 4 * 4, 500)\n",
    "        self.fc2 = torch.nn.Linear(500, 10)\n",
    "\n",
    "    def forward(self, x):\n",
    "        x = self.conv1(x)\n",
    "        x = torch.relu(x)\n",
    "        x = self.pool1(x)\n",
    "        x = self.conv2(x)\n",
    "        x = torch.relu(x)\n",
    "        x = self.pool2(x)\n",
    "        x = x.view(-1, 50 * 4 * 4)\n",
    "        x = self.fc1(x)\n",
    "        x = torch.relu(x)\n",
    "        x = self.fc2(x)\n",
    "        x = torch.softmax(x, dim=1)\n",
    "        return x"
   ]
  },
  {
   "cell_type": "markdown",
   "id": "49894cba",
   "metadata": {},
   "source": [
    "再次测试输入输出的维度是否正确。如果模型编写正确，输出的维度应该是 `[6, 10]`，且输出结果为0到1之间的概率值。"
   ]
  },
  {
   "cell_type": "code",
   "execution_count": 15,
   "id": "95558fc5",
   "metadata": {},
   "outputs": [
    {
     "name": "stdout",
     "output_type": "stream",
     "text": [
      "torch.Size([6, 10])\n",
      "\n",
      "tensor([[0.0975, 0.1003, 0.0987, 0.1080, 0.0927, 0.0913, 0.0983, 0.1060, 0.1013,\n",
      "         0.1058],\n",
      "        [0.0971, 0.1000, 0.1006, 0.1078, 0.0939, 0.0914, 0.1014, 0.1017, 0.1025,\n",
      "         0.1037],\n",
      "        [0.0958, 0.0996, 0.0984, 0.1092, 0.0932, 0.0923, 0.0984, 0.1066, 0.1022,\n",
      "         0.1043],\n",
      "        [0.0991, 0.1006, 0.0990, 0.1091, 0.0918, 0.0889, 0.0989, 0.1061, 0.1042,\n",
      "         0.1021],\n",
      "        [0.0954, 0.1004, 0.1015, 0.1071, 0.0943, 0.0922, 0.1017, 0.1023, 0.1027,\n",
      "         0.1024],\n",
      "        [0.0962, 0.1011, 0.0987, 0.1094, 0.0923, 0.0906, 0.0958, 0.1088, 0.1024,\n",
      "         0.1048]], grad_fn=<SoftmaxBackward0>)\n",
      "\n",
      "tensor([1.0000, 1.0000, 1.0000, 1.0000, 1.0000, 1.0000],\n",
      "       grad_fn=<SumBackward1>)\n"
     ]
    }
   ],
   "source": [
    "np.random.seed(123)\n",
    "torch.manual_seed(123)\n",
    "\n",
    "model = MyModel()\n",
    "pred = model(smallx)\n",
    "print(pred.shape)\n",
    "print()\n",
    "print(pred)\n",
    "print()\n",
    "print(torch.sum(pred, dim=1))"
   ]
  },
  {
   "cell_type": "markdown",
   "id": "3b8236f0",
   "metadata": {},
   "source": [
    "`pred` 的每一行加总为1，其中每一个元素代表对应类别的预测概率。"
   ]
  },
  {
   "cell_type": "markdown",
   "id": "1ca3a05a",
   "metadata": {},
   "source": [
    "我们还可以直接打印模型对象，观察隐藏层的结构："
   ]
  },
  {
   "cell_type": "code",
   "execution_count": 16,
   "id": "20a4eb6f",
   "metadata": {},
   "outputs": [
    {
     "name": "stdout",
     "output_type": "stream",
     "text": [
      "MyModel(\n",
      "  (conv1): Conv2d(1, 20, kernel_size=(5, 5), stride=(1, 1))\n",
      "  (pool1): MaxPool2d(kernel_size=2, stride=2, padding=0, dilation=1, ceil_mode=False)\n",
      "  (conv2): Conv2d(20, 50, kernel_size=(5, 5), stride=(1, 1))\n",
      "  (pool2): MaxPool2d(kernel_size=2, stride=2, padding=0, dilation=1, ceil_mode=False)\n",
      "  (fc1): Linear(in_features=800, out_features=500, bias=True)\n",
      "  (fc2): Linear(in_features=500, out_features=10, bias=True)\n",
      ")\n"
     ]
    }
   ],
   "source": [
    "print(model)"
   ]
  },
  {
   "cell_type": "markdown",
   "id": "0d0bc12f",
   "metadata": {},
   "source": [
    "### 2.4 定义损失函数"
   ]
  },
  {
   "cell_type": "markdown",
   "id": "ffd11e33",
   "metadata": {},
   "source": [
    "对于分类问题，损失函数通常选取为负对数似然函数。在 PyTorch 中，可以使用 `torch.nn.NLLLoss` 来完成计算。其用法是先定义一个损失函数对象，然后在预测值和真实标签上调用该函数对象。注意：损失函数对象的第一个参数是预测概率的**对数值**，第二个参数是真实的标签。[文档说明](https://pytorch.org/docs/stable/generated/torch.nn.NLLLoss.html)。"
   ]
  },
  {
   "cell_type": "code",
   "execution_count": 17,
   "id": "6f4ee18e",
   "metadata": {},
   "outputs": [
    {
     "data": {
      "text/plain": [
       "tensor(2.3102, grad_fn=<NllLossBackward0>)"
      ]
     },
     "execution_count": 17,
     "metadata": {},
     "output_type": "execute_result"
    }
   ],
   "source": [
    "lossfn = torch.nn.NLLLoss()\n",
    "lossfn(torch.log(pred), smally)"
   ]
  },
  {
   "cell_type": "markdown",
   "id": "0cf163e4",
   "metadata": {},
   "source": [
    "### 2.5 编写训练循环"
   ]
  },
  {
   "cell_type": "markdown",
   "id": "c53f5d1a",
   "metadata": {},
   "source": [
    "利用课上介绍的循环模板和代码示例，对模型进行迭代训练。对于本数据，选取 mini-batch 大小为200，共遍历数据10遍，优化器选为 SGD，学习率为0.001。记录每个 mini-batch 下的损失函数值存放到列表 `losses_sgd` 中，然后画出损失函数的曲线。"
   ]
  },
  {
   "cell_type": "code",
   "execution_count": 18,
   "id": "b99d1bb8",
   "metadata": {
    "scrolled": false
   },
   "outputs": [
    {
     "name": "stdout",
     "output_type": "stream",
     "text": [
      "epoch 0, batch 0, loss = 2.3105688095092773\n",
      "epoch 0, batch 20, loss = 2.3057360649108887\n",
      "epoch 0, batch 40, loss = 2.3092501163482666\n",
      "epoch 1, batch 0, loss = 2.3027877807617188\n",
      "epoch 1, batch 20, loss = 2.3007586002349854\n",
      "epoch 1, batch 40, loss = 2.2959537506103516\n",
      "epoch 2, batch 0, loss = 2.3017232418060303\n",
      "epoch 2, batch 20, loss = 2.299773693084717\n",
      "epoch 2, batch 40, loss = 2.2957394123077393\n",
      "epoch 3, batch 0, loss = 2.302973747253418\n",
      "epoch 3, batch 20, loss = 2.2981343269348145\n",
      "epoch 3, batch 40, loss = 2.2988414764404297\n",
      "epoch 4, batch 0, loss = 2.2957944869995117\n",
      "epoch 4, batch 20, loss = 2.297307252883911\n",
      "epoch 4, batch 40, loss = 2.2924017906188965\n",
      "epoch 5, batch 0, loss = 2.2910847663879395\n",
      "epoch 5, batch 20, loss = 2.2909836769104004\n",
      "epoch 5, batch 40, loss = 2.2896158695220947\n",
      "epoch 6, batch 0, loss = 2.2926132678985596\n",
      "epoch 6, batch 20, loss = 2.2952747344970703\n",
      "epoch 6, batch 40, loss = 2.2917866706848145\n",
      "epoch 7, batch 0, loss = 2.2907145023345947\n",
      "epoch 7, batch 20, loss = 2.2900779247283936\n",
      "epoch 7, batch 40, loss = 2.2897634506225586\n",
      "epoch 8, batch 0, loss = 2.2934670448303223\n",
      "epoch 8, batch 20, loss = 2.2860636711120605\n",
      "epoch 8, batch 40, loss = 2.292482852935791\n",
      "epoch 9, batch 0, loss = 2.2877120971679688\n",
      "epoch 9, batch 20, loss = 2.2949094772338867\n",
      "epoch 9, batch 40, loss = 2.284466028213501\n"
     ]
    }
   ],
   "source": [
    "nepoch = 10\n",
    "batch_size = 200\n",
    "lr = 0.001\n",
    "\n",
    "np.random.seed(123)\n",
    "torch.manual_seed(123)\n",
    "\n",
    "model = MyModel()\n",
    "losses_sgd = []\n",
    "opt = torch.optim.SGD(model.parameters(), lr=lr)\n",
    "\n",
    "n = x.shape[0]\n",
    "obs_id = np.arange(n)  # [0, 1, ..., n-1]\n",
    "# Run the whole data set `nepoch` times\n",
    "for i in range(nepoch):\n",
    "    # Shuffle observation IDs\n",
    "    np.random.shuffle(obs_id)\n",
    "\n",
    "    # Update on mini-batches\n",
    "    for j in range(0, n, batch_size):\n",
    "        # Create mini-batch\n",
    "        x_mini_batch = x[obs_id[j:(j + batch_size)]]\n",
    "        y_mini_batch = y[obs_id[j:(j + batch_size)]]\n",
    "        # Compute loss\n",
    "        pred = model(x_mini_batch)\n",
    "        lossfn = torch.nn.NLLLoss()\n",
    "        loss = lossfn(torch.log(pred), y_mini_batch)\n",
    "        # Compute gradient and update parameters\n",
    "        opt.zero_grad()\n",
    "        loss.backward()\n",
    "        opt.step()\n",
    "        losses_sgd.append(loss.item())\n",
    "\n",
    "        if (j // batch_size) % 20 == 0:\n",
    "            print(f\"epoch {i}, batch {j // batch_size}, loss = {loss.item()}\")"
   ]
  },
  {
   "cell_type": "code",
   "execution_count": 19,
   "id": "0d07a348",
   "metadata": {
    "scrolled": true
   },
   "outputs": [
    {
     "data": {
      "text/plain": [
       "[<matplotlib.lines.Line2D at 0x2431de12820>]"
      ]
     },
     "execution_count": 19,
     "metadata": {},
     "output_type": "execute_result"
    },
    {
     "data": {
      "image/png": "[encoded data removed]",
      "text/plain": [
       "<Figure size 432x288 with 1 Axes>"
      ]
     },
     "metadata": {
      "needs_background": "light"
     },
     "output_type": "display_data"
    }
   ],
   "source": [
    "plt.plot(losses_sgd)"
   ]
  },
  {
   "cell_type": "markdown",
   "id": "9615cfdc",
   "metadata": {},
   "source": [
    "接下来使用 Adagrad 优化器（在[官方文档](https://pytorch.org/docs/stable/optim.html)中找到对应的函数），其他参数保持不变，重新训练一次模型，也保存下来损失函数值。"
   ]
  },
  {
   "cell_type": "code",
   "execution_count": 24,
   "id": "ff73f6c7",
   "metadata": {},
   "outputs": [
    {
     "name": "stdout",
     "output_type": "stream",
     "text": [
      "epoch 0, batch 0, loss = 2.3105688095092773\n",
      "epoch 0, batch 20, loss = 0.4759213924407959\n",
      "epoch 0, batch 40, loss = 0.2763727903366089\n",
      "epoch 1, batch 0, loss = 0.29687291383743286\n",
      "epoch 1, batch 20, loss = 0.17004592716693878\n",
      "epoch 1, batch 40, loss = 0.20732690393924713\n",
      "epoch 2, batch 0, loss = 0.19305215775966644\n",
      "epoch 2, batch 20, loss = 0.21435749530792236\n",
      "epoch 2, batch 40, loss = 0.1308351755142212\n",
      "epoch 3, batch 0, loss = 0.11881395429372787\n",
      "epoch 3, batch 20, loss = 0.04193267226219177\n",
      "epoch 3, batch 40, loss = 0.07869990170001984\n",
      "epoch 4, batch 0, loss = 0.06653042137622833\n",
      "epoch 4, batch 20, loss = 0.04957107454538345\n",
      "epoch 4, batch 40, loss = 0.14722764492034912\n",
      "epoch 5, batch 0, loss = 0.07359713315963745\n",
      "epoch 5, batch 20, loss = 0.0545964352786541\n",
      "epoch 5, batch 40, loss = 0.05757848173379898\n",
      "epoch 6, batch 0, loss = 0.053671617060899734\n",
      "epoch 6, batch 20, loss = 0.039085812866687775\n",
      "epoch 6, batch 40, loss = 0.03232776001095772\n",
      "epoch 7, batch 0, loss = 0.0391305647790432\n",
      "epoch 7, batch 20, loss = 0.03373492881655693\n",
      "epoch 7, batch 40, loss = 0.014264577999711037\n",
      "epoch 8, batch 0, loss = 0.02951735444366932\n",
      "epoch 8, batch 20, loss = 0.015595532953739166\n",
      "epoch 8, batch 40, loss = 0.016719836741685867\n",
      "epoch 9, batch 0, loss = 0.026622405275702477\n",
      "epoch 9, batch 20, loss = 0.04934534430503845\n",
      "epoch 9, batch 40, loss = 0.02131887711584568\n"
     ]
    }
   ],
   "source": [
    "nepoch = 10\n",
    "batch_size = 200\n",
    "lr = 0.001\n",
    "\n",
    "np.random.seed(123)\n",
    "torch.manual_seed(123)\n",
    "\n",
    "model = MyModel()\n",
    "losses_adagrad = []\n",
    "\n",
    "opt = torch.optim.Adam(model.parameters(), lr=lr)\n",
    "\n",
    "n = x.shape[0]\n",
    "obs_id = np.arange(n)  # [0, 1, ..., n-1]\n",
    "# Run the whole data set `nepoch` times\n",
    "for i in range(nepoch):\n",
    "    # Shuffle observation IDs\n",
    "    np.random.shuffle(obs_id)\n",
    "\n",
    "    # Update on mini-batches\n",
    "    for j in range(0, n, batch_size):\n",
    "        # Create mini-batch\n",
    "        x_mini_batch = x[obs_id[j:(j + batch_size)]]\n",
    "        y_mini_batch = y[obs_id[j:(j + batch_size)]]\n",
    "        # Compute loss\n",
    "        pred = model(x_mini_batch)\n",
    "        lossfn = torch.nn.NLLLoss()\n",
    "        loss = lossfn(torch.log(pred), y_mini_batch)\n",
    "        # Compute gradient and update parameters\n",
    "        opt.zero_grad()\n",
    "        loss.backward()\n",
    "        opt.step()\n",
    "        losses_adagrad.append(loss.item())\n",
    "\n",
    "        if (j // batch_size) % 20 == 0:\n",
    "            print(f\"epoch {i}, batch {j // batch_size}, loss = {loss.item()}\")"
   ]
  },
  {
   "cell_type": "markdown",
   "id": "7d04533d",
   "metadata": {},
   "source": [
    "对比 SGD 和 Adagrad，画出各自的损失函数曲线。"
   ]
  },
  {
   "cell_type": "code",
   "execution_count": 21,
   "id": "75c90ac4",
   "metadata": {},
   "outputs": [
    {
     "data": {
      "text/plain": [
       "[<matplotlib.lines.Line2D at 0x2431dc7d280>]"
      ]
     },
     "execution_count": 21,
     "metadata": {},
     "output_type": "execute_result"
    },
    {
     "data": {
      "image/png": "[encoded data removed]",
      "text/plain": [
       "<Figure size 432x288 with 1 Axes>"
      ]
     },
     "metadata": {
      "needs_background": "light"
     },
     "output_type": "display_data"
    }
   ],
   "source": [
    "plt.plot(losses_sgd)\n",
    "plt.plot(losses_adagrad)"
   ]
  },
  {
   "cell_type": "markdown",
   "id": "33fa2cb6",
   "metadata": {},
   "source": [
    "最后再自行选择一款优化器，重复上面的实验，并画出三种优化器的损失函数值对比图。"
   ]
  },
  {
   "cell_type": "code",
   "execution_count": 22,
   "id": "f5cafefb",
   "metadata": {},
   "outputs": [
    {
     "name": "stdout",
     "output_type": "stream",
     "text": [
      "epoch 0, batch 0, loss = 2.3105688095092773\n",
      "epoch 0, batch 20, loss = 2.3058583736419678\n",
      "epoch 0, batch 40, loss = 2.309478759765625\n",
      "epoch 1, batch 0, loss = 2.303133010864258\n",
      "epoch 1, batch 20, loss = 2.3010616302490234\n",
      "epoch 1, batch 40, loss = 2.296398639678955\n",
      "epoch 2, batch 0, loss = 2.3022680282592773\n",
      "epoch 2, batch 20, loss = 2.3002419471740723\n",
      "epoch 2, batch 40, loss = 2.2963407039642334\n",
      "epoch 3, batch 0, loss = 2.3036136627197266\n",
      "epoch 3, batch 20, loss = 2.2990283966064453\n",
      "epoch 3, batch 40, loss = 2.299605131149292\n",
      "epoch 4, batch 0, loss = 2.2964701652526855\n",
      "epoch 4, batch 20, loss = 2.2982289791107178\n",
      "epoch 4, batch 40, loss = 2.2935950756073\n",
      "epoch 5, batch 0, loss = 2.2920825481414795\n",
      "epoch 5, batch 20, loss = 2.2918622493743896\n",
      "epoch 5, batch 40, loss = 2.290987491607666\n",
      "epoch 6, batch 0, loss = 2.29380202293396\n",
      "epoch 6, batch 20, loss = 2.2969982624053955\n",
      "epoch 6, batch 40, loss = 2.293053388595581\n",
      "epoch 7, batch 0, loss = 2.292180061340332\n",
      "epoch 7, batch 20, loss = 2.291443109512329\n",
      "epoch 7, batch 40, loss = 2.291128396987915\n",
      "epoch 8, batch 0, loss = 2.2949395179748535\n",
      "epoch 8, batch 20, loss = 2.28769850730896\n",
      "epoch 8, batch 40, loss = 2.2942397594451904\n",
      "epoch 9, batch 0, loss = 2.289163112640381\n",
      "epoch 9, batch 20, loss = 2.2969117164611816\n",
      "epoch 9, batch 40, loss = 2.286816358566284\n"
     ]
    }
   ],
   "source": [
    "nepoch = 10\n",
    "batch_size = 200\n",
    "lr = 0.001\n",
    "\n",
    "np.random.seed(123)\n",
    "torch.manual_seed(123)\n",
    "\n",
    "model = MyModel()\n",
    "\n",
    "# 完成模型训练和作图\n",
    "losses_Adadelta = []\n",
    "\n",
    "opt = torch.optim.Adadelta(model.parameters(), lr=lr)\n",
    "\n",
    "n = x.shape[0]\n",
    "obs_id = np.arange(n)  # [0, 1, ..., n-1]\n",
    "# Run the whole data set `nepoch` times\n",
    "for i in range(nepoch):\n",
    "    # Shuffle observation IDs\n",
    "    np.random.shuffle(obs_id)\n",
    "\n",
    "    # Update on mini-batches\n",
    "    for j in range(0, n, batch_size):\n",
    "        # Create mini-batch\n",
    "        x_mini_batch = x[obs_id[j:(j + batch_size)]]\n",
    "        y_mini_batch = y[obs_id[j:(j + batch_size)]]\n",
    "        # Compute loss\n",
    "        pred = model(x_mini_batch)\n",
    "        lossfn = torch.nn.NLLLoss()\n",
    "        loss = lossfn(torch.log(pred), y_mini_batch)\n",
    "        # Compute gradient and update parameters\n",
    "        opt.zero_grad()\n",
    "        loss.backward()\n",
    "        opt.step()\n",
    "        losses_Adadelta.append(loss.item())\n",
    "\n",
    "        if (j // batch_size) % 20 == 0:\n",
    "            print(f\"epoch {i}, batch {j // batch_size}, loss = {loss.item()}\")"
   ]
  },
  {
   "cell_type": "code",
   "execution_count": 23,
   "id": "2620f730",
   "metadata": {},
   "outputs": [
    {
     "data": {
      "text/plain": [
       "[<matplotlib.lines.Line2D at 0x2431dce7460>]"
      ]
     },
     "execution_count": 23,
     "metadata": {},
     "output_type": "execute_result"
    },
    {
     "data": {
      "image/png": "[encoded data removed]",
      "text/plain": [
       "<Figure size 432x288 with 1 Axes>"
      ]
     },
     "metadata": {
      "needs_background": "light"
     },
     "output_type": "display_data"
    }
   ],
   "source": [
    "plt.plot(losses_sgd)\n",
    "plt.plot(losses_adagrad)\n",
    "plt.plot(losses_Adadelta)"
   ]
  },
  {
   "cell_type": "markdown",
   "id": "411e0bfe",
   "metadata": {},
   "source": [
    "### 2.6 实施预测"
   ]
  },
  {
   "cell_type": "markdown",
   "id": "0cc09b3f",
   "metadata": {},
   "source": [
    "为了验证模型的效果，我们对10个测试观测（即之前生成的 `testx`）进行预测。"
   ]
  },
  {
   "cell_type": "code",
   "execution_count": 25,
   "id": "80a99a6e",
   "metadata": {},
   "outputs": [
    {
     "name": "stdout",
     "output_type": "stream",
     "text": [
      "[[0.    0.    0.    0.    0.    0.    0.    0.    1.    0.   ]\n",
      " [0.    0.    0.    0.    0.    0.    0.    0.    0.    1.   ]\n",
      " [0.    0.    1.    0.    0.    0.    0.    0.    0.    0.   ]\n",
      " [0.    0.    1.    0.    0.    0.    0.    0.    0.    0.   ]\n",
      " [0.    1.    0.    0.    0.    0.    0.    0.    0.    0.   ]\n",
      " [0.    0.    0.    0.001 0.    0.988 0.    0.    0.    0.011]\n",
      " [0.966 0.    0.013 0.    0.    0.    0.002 0.    0.019 0.   ]\n",
      " [0.    0.    0.    0.    0.    0.    0.    0.    0.    1.   ]\n",
      " [0.    0.    0.    0.    0.    0.    0.    0.    1.    0.   ]\n",
      " [0.    0.    0.    0.    0.    0.    0.    1.    0.    0.   ]]\n",
      "tensor([8, 9, 2, 2, 1, 5, 0, 9, 8, 7])\n"
     ]
    }
   ],
   "source": [
    "ypred = model(xtest)\n",
    "print(np.round(ypred.detach().cpu().numpy(), 3))\n",
    "print(ytest)"
   ]
  },
  {
   "cell_type": "markdown",
   "id": "38c93ff3",
   "metadata": {},
   "source": [
    "如果模型搭建和训练都正常，那么每一行中概率最大的取值所在的位置应该正好对应真实的标签。我们也可以让 PyTorch 自动找到最大值的位置。"
   ]
  },
  {
   "cell_type": "code",
   "execution_count": 26,
   "id": "e7bd7b9b",
   "metadata": {},
   "outputs": [
    {
     "data": {
      "text/plain": [
       "tensor([8, 9, 2, 2, 1, 5, 0, 9, 8, 7])"
      ]
     },
     "execution_count": 26,
     "metadata": {},
     "output_type": "execute_result"
    }
   ],
   "source": [
    "torch.argmax(ypred, dim=1)"
   ]
  },
  {
   "cell_type": "markdown",
   "id": "6c34de42",
   "metadata": {},
   "source": [
    "最后，我们用模型对一些真实的手写数字图片进行预测。请你利用绘图软件（如 Windows 自带的绘图，或 Photoshop 等）准备10张正方形黑色底色的图片，每张用鼠标绘制一个数字（请使用较粗的笔划），从0到9，然后以0.png，1.png等文件名存储下来，放到当前目录一个名为 digits 的文件夹中。以下是几个例子：\n",
    "![](digits/sample0.png) ![](digits/sample5.png) ![](digits/sample8.png)"
   ]
  },
  {
   "cell_type": "markdown",
   "id": "35066889",
   "metadata": {},
   "source": [
    "接下来利用 Pillow 软件包读取图片："
   ]
  },
  {
   "cell_type": "code",
   "execution_count": 27,
   "id": "0d19fbd2",
   "metadata": {
    "scrolled": false
   },
   "outputs": [
    {
     "data": {
      "image/png": "[encoded data removed]",
      "text/plain": [
       "<PIL.PngImagePlugin.PngImageFile image mode=RGB size=100x100>"
      ]
     },
     "execution_count": 27,
     "metadata": {},
     "output_type": "execute_result"
    }
   ],
   "source": [
    "from PIL import Image\n",
    "im = Image.open(\"digits/sample0.png\")\n",
    "im"
   ]
  },
  {
   "cell_type": "markdown",
   "id": "7f30128c",
   "metadata": {},
   "source": [
    "此时如果直接将其转为 Numpy 数组会得到三个通道："
   ]
  },
  {
   "cell_type": "code",
   "execution_count": 28,
   "id": "f3999832",
   "metadata": {},
   "outputs": [
    {
     "name": "stdout",
     "output_type": "stream",
     "text": [
      "(100, 100, 3)\n"
     ]
    }
   ],
   "source": [
    "im_arr = np.array(im)\n",
    "print(im_arr.shape)"
   ]
  },
  {
   "cell_type": "markdown",
   "id": "06d85450",
   "metadata": {},
   "source": [
    "因此，我们先强制转换为灰度图片（单通道），再缩放至模型的图片大小 28 x 28："
   ]
  },
  {
   "cell_type": "code",
   "execution_count": 29,
   "id": "102618e8",
   "metadata": {},
   "outputs": [
    {
     "name": "stdout",
     "output_type": "stream",
     "text": [
      "(28, 28)\n"
     ]
    },
    {
     "data": {
      "image/png": "[encoded data removed]",
      "text/plain": [
       "<PIL.Image.Image image mode=L size=28x28>"
      ]
     },
     "execution_count": 29,
     "metadata": {},
     "output_type": "execute_result"
    }
   ],
   "source": [
    "im = im.convert(\"L\")\n",
    "im.thumbnail((28, 28))\n",
    "im_arr = np.array(im)\n",
    "print(im_arr.shape)\n",
    "im"
   ]
  },
  {
   "cell_type": "markdown",
   "id": "3978a9d6",
   "metadata": {},
   "source": [
    "为了传递给模型对象，还需要先将数值归一化到 [0,1] 区间，转换为 PyTorch 的 Tensor 类型，并增加一个批次和一个通道的维度："
   ]
  },
  {
   "cell_type": "code",
   "execution_count": 30,
   "id": "ce6af013",
   "metadata": {},
   "outputs": [
    {
     "name": "stdout",
     "output_type": "stream",
     "text": [
      "torch.Size([1, 1, 28, 28])\n"
     ]
    }
   ],
   "source": [
    "test0 = torch.tensor(im_arr / 255.0, dtype=torch.float32).view(1, 1, 28, 28)\n",
    "print(test0.shape)"
   ]
  },
  {
   "cell_type": "markdown",
   "id": "69402359",
   "metadata": {},
   "source": [
    "最后对图片标签进行预测："
   ]
  },
  {
   "cell_type": "code",
   "execution_count": 31,
   "id": "28b1f088",
   "metadata": {
    "scrolled": true
   },
   "outputs": [
    {
     "name": "stdout",
     "output_type": "stream",
     "text": [
      "[[0.999 0.    0.    0.    0.    0.    0.    0.    0.    0.001]]\n"
     ]
    }
   ],
   "source": [
    "pred0 = model(test0)\n",
    "print(np.round(pred0.detach().cpu().numpy(), 3))"
   ]
  },
  {
   "cell_type": "markdown",
   "id": "6ebafef2",
   "metadata": {},
   "source": [
    "预测结果是否符合真实情形？请对你自己绘制出的10张图片进行类似的预测操作，并评价其效果。"
   ]
  },
  {
   "cell_type": "code",
   "execution_count": 45,
   "id": "053ea4fd",
   "metadata": {},
   "outputs": [
    {
     "name": "stdout",
     "output_type": "stream",
     "text": [
      "[[0. 0. 0. 0. 1. 0. 0. 0. 0. 0.]]\n"
     ]
    },
    {
     "data": {
      "image/png": "[encoded data removed]",
      "text/plain": [
       "<PIL.Image.Image image mode=L size=28x28>"
      ]
     },
     "execution_count": 45,
     "metadata": {},
     "output_type": "execute_result"
    }
   ],
   "source": [
    "im = Image.open(\"digits/0.png\")\n",
    "im_arr = np.array(im)\n",
    "im = im.convert(\"L\")\n",
    "im.thumbnail((28, 28))\n",
    "im_arr = np.array(im)\n",
    "test0 = torch.tensor(im_arr / 255.0, dtype=torch.float32).view(1, 1, 28, 28)\n",
    "pred0 = model(test0)\n",
    "print(np.round(pred0.detach().cpu().numpy(), 3))\n",
    "im"
   ]
  },
  {
   "cell_type": "code",
   "execution_count": 47,
   "id": "9fadb617",
   "metadata": {},
   "outputs": [
    {
     "name": "stdout",
     "output_type": "stream",
     "text": [
      "[[0.    0.    0.    0.003 0.    0.992 0.    0.    0.004 0.   ]]\n"
     ]
    },
    {
     "data": {
      "image/png": "[encoded data removed]",
      "text/plain": [
       "<PIL.Image.Image image mode=L size=28x28>"
      ]
     },
     "execution_count": 47,
     "metadata": {},
     "output_type": "execute_result"
    }
   ],
   "source": [
    "im = Image.open(\"digits/1.png\")\n",
    "im_arr = np.array(im)\n",
    "im = im.convert(\"L\")\n",
    "im.thumbnail((28, 28))\n",
    "im_arr = np.array(im)\n",
    "test0 = torch.tensor(im_arr / 255.0, dtype=torch.float32).view(1, 1, 28, 28)\n",
    "pred0 = model(test0)\n",
    "print(np.round(pred0.detach().cpu().numpy(), 3))\n",
    "im"
   ]
  },
  {
   "cell_type": "code",
   "execution_count": 48,
   "id": "f0edb250",
   "metadata": {},
   "outputs": [
    {
     "name": "stdout",
     "output_type": "stream",
     "text": [
      "[[0.    0.    0.    0.    0.006 0.005 0.    0.    0.    0.99 ]]\n"
     ]
    },
    {
     "data": {
      "image/png": "[encoded data removed]",
      "text/plain": [
       "<PIL.Image.Image image mode=L size=28x28>"
      ]
     },
     "execution_count": 48,
     "metadata": {},
     "output_type": "execute_result"
    }
   ],
   "source": [
    "im = Image.open(\"digits/2.png\")\n",
    "im_arr = np.array(im)\n",
    "im = im.convert(\"L\")\n",
    "im.thumbnail((28, 28))\n",
    "im_arr = np.array(im)\n",
    "test0 = torch.tensor(im_arr / 255.0, dtype=torch.float32).view(1, 1, 28, 28)\n",
    "pred0 = model(test0)\n",
    "print(np.round(pred0.detach().cpu().numpy(), 3))\n",
    "im"
   ]
  },
  {
   "cell_type": "code",
   "execution_count": 49,
   "id": "d54841bc",
   "metadata": {},
   "outputs": [
    {
     "name": "stdout",
     "output_type": "stream",
     "text": [
      "[[0. 1. 0. 0. 0. 0. 0. 0. 0. 0.]]\n"
     ]
    },
    {
     "data": {
      "image/png": "[encoded data removed]",
      "text/plain": [
       "<PIL.Image.Image image mode=L size=28x28>"
      ]
     },
     "execution_count": 49,
     "metadata": {},
     "output_type": "execute_result"
    }
   ],
   "source": [
    "im = Image.open(\"digits/3.png\")\n",
    "im_arr = np.array(im)\n",
    "im = im.convert(\"L\")\n",
    "im.thumbnail((28, 28))\n",
    "im_arr = np.array(im)\n",
    "test0 = torch.tensor(im_arr / 255.0, dtype=torch.float32).view(1, 1, 28, 28)\n",
    "pred0 = model(test0)\n",
    "print(np.round(pred0.detach().cpu().numpy(), 3))\n",
    "im"
   ]
  },
  {
   "cell_type": "code",
   "execution_count": 50,
   "id": "39b7c4f6",
   "metadata": {},
   "outputs": [
    {
     "name": "stdout",
     "output_type": "stream",
     "text": [
      "[[0.    0.011 0.068 0.    0.    0.    0.    0.921 0.    0.   ]]\n"
     ]
    },
    {
     "data": {
      "image/png": "[encoded data removed]",
      "text/plain": [
       "<PIL.Image.Image image mode=L size=28x28>"
      ]
     },
     "execution_count": 50,
     "metadata": {},
     "output_type": "execute_result"
    }
   ],
   "source": [
    "im = Image.open(\"digits/4.png\")\n",
    "im_arr = np.array(im)\n",
    "im = im.convert(\"L\")\n",
    "im.thumbnail((28, 28))\n",
    "im_arr = np.array(im)\n",
    "test0 = torch.tensor(im_arr / 255.0, dtype=torch.float32).view(1, 1, 28, 28)\n",
    "pred0 = model(test0)\n",
    "print(np.round(pred0.detach().cpu().numpy(), 3))\n",
    "im"
   ]
  },
  {
   "cell_type": "code",
   "execution_count": 51,
   "id": "b968cd09",
   "metadata": {},
   "outputs": [
    {
     "name": "stdout",
     "output_type": "stream",
     "text": [
      "[[0. 0. 1. 0. 0. 0. 0. 0. 0. 0.]]\n"
     ]
    },
    {
     "data": {
      "image/png": "[encoded data removed]",
      "text/plain": [
       "<PIL.Image.Image image mode=L size=28x28>"
      ]
     },
     "execution_count": 51,
     "metadata": {},
     "output_type": "execute_result"
    }
   ],
   "source": [
    "im = Image.open(\"digits/5.png\")\n",
    "im_arr = np.array(im)\n",
    "im = im.convert(\"L\")\n",
    "im.thumbnail((28, 28))\n",
    "im_arr = np.array(im)\n",
    "test0 = torch.tensor(im_arr / 255.0, dtype=torch.float32).view(1, 1, 28, 28)\n",
    "pred0 = model(test0)\n",
    "print(np.round(pred0.detach().cpu().numpy(), 3))\n",
    "im"
   ]
  },
  {
   "cell_type": "code",
   "execution_count": 53,
   "id": "2b938aa7",
   "metadata": {},
   "outputs": [
    {
     "name": "stdout",
     "output_type": "stream",
     "text": [
      "[[0. 0. 0. 0. 0. 0. 0. 0. 1. 0.]]\n"
     ]
    },
    {
     "data": {
      "image/png": "[encoded data removed]",
      "text/plain": [
       "<PIL.Image.Image image mode=L size=28x28>"
      ]
     },
     "execution_count": 53,
     "metadata": {},
     "output_type": "execute_result"
    }
   ],
   "source": [
    "im = Image.open(\"digits/6.png\")\n",
    "im_arr = np.array(im)\n",
    "im = im.convert(\"L\")\n",
    "im.thumbnail((28, 28))\n",
    "im_arr = np.array(im)\n",
    "test0 = torch.tensor(im_arr / 255.0, dtype=torch.float32).view(1, 1, 28, 28)\n",
    "pred0 = model(test0)\n",
    "print(np.round(pred0.detach().cpu().numpy(), 3))\n",
    "im"
   ]
  },
  {
   "cell_type": "code",
   "execution_count": 54,
   "id": "c7637bdd",
   "metadata": {},
   "outputs": [
    {
     "name": "stdout",
     "output_type": "stream",
     "text": [
      "[[0. 0. 0. 1. 0. 0. 0. 0. 0. 0.]]\n"
     ]
    },
    {
     "data": {
      "image/png": "[encoded data removed]",
      "text/plain": [
       "<PIL.Image.Image image mode=L size=28x28>"
      ]
     },
     "execution_count": 54,
     "metadata": {},
     "output_type": "execute_result"
    }
   ],
   "source": [
    "im = Image.open(\"digits/7.png\")\n",
    "im_arr = np.array(im)\n",
    "im = im.convert(\"L\")\n",
    "im.thumbnail((28, 28))\n",
    "im_arr = np.array(im)\n",
    "test0 = torch.tensor(im_arr / 255.0, dtype=torch.float32).view(1, 1, 28, 28)\n",
    "pred0 = model(test0)\n",
    "print(np.round(pred0.detach().cpu().numpy(), 3))\n",
    "im"
   ]
  },
  {
   "cell_type": "code",
   "execution_count": 55,
   "id": "e86ec3fd",
   "metadata": {},
   "outputs": [
    {
     "name": "stdout",
     "output_type": "stream",
     "text": [
      "[[0.989 0.    0.    0.    0.    0.    0.011 0.    0.    0.   ]]\n"
     ]
    },
    {
     "data": {
      "image/png": "[encoded data removed]",
      "text/plain": [
       "<PIL.Image.Image image mode=L size=28x28>"
      ]
     },
     "execution_count": 55,
     "metadata": {},
     "output_type": "execute_result"
    }
   ],
   "source": [
    "im = Image.open(\"digits/8.png\")\n",
    "im_arr = np.array(im)\n",
    "im = im.convert(\"L\")\n",
    "im.thumbnail((28, 28))\n",
    "im_arr = np.array(im)\n",
    "test0 = torch.tensor(im_arr / 255.0, dtype=torch.float32).view(1, 1, 28, 28)\n",
    "pred0 = model(test0)\n",
    "print(np.round(pred0.detach().cpu().numpy(), 3))\n",
    "im"
   ]
  },
  {
   "cell_type": "code",
   "execution_count": 57,
   "id": "e5528f84",
   "metadata": {},
   "outputs": [
    {
     "name": "stdout",
     "output_type": "stream",
     "text": [
      "[[0.    0.    0.    0.    0.    0.926 0.073 0.    0.001 0.   ]]\n"
     ]
    },
    {
     "data": {
      "image/png": "[encoded data removed]",
      "text/plain": [
       "<PIL.Image.Image image mode=L size=28x28>"
      ]
     },
     "execution_count": 57,
     "metadata": {},
     "output_type": "execute_result"
    }
   ],
   "source": [
    "im = Image.open(\"digits/9.png\")\n",
    "im_arr = np.array(im)\n",
    "im = im.convert(\"L\")\n",
    "im.thumbnail((28, 28))\n",
    "im_arr = np.array(im)\n",
    "test0 = torch.tensor(im_arr / 255.0, dtype=torch.float32).view(1, 1, 28, 28)\n",
    "pred0 = model(test0)\n",
    "print(np.round(pred0.detach().cpu().numpy(), 3))\n",
    "im"
   ]
  },
  {
   "cell_type": "markdown",
   "id": "1ef4030d",
   "metadata": {},
   "source": [
    "只有最后一张预测错误，准确率较高"
   ]
  }
 ],
 "metadata": {
  "kernelspec": {
   "display_name": "Python 3 (ipykernel)",
   "language": "python",
   "name": "python3"
  },
  "language_info": {
   "codemirror_mode": {
    "name": "ipython",
    "version": 3
   },
   "file_extension": ".py",
   "mimetype": "text/x-python",
   "name": "python",
   "nbconvert_exporter": "python",
   "pygments_lexer": "ipython3",
   "version": "3.8.5"
  }
 },
 "nbformat": 4,
 "nbformat_minor": 5
}
